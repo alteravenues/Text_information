{
 "cells": [
  {
   "cell_type": "code",
   "execution_count": 27,
   "id": "75d42c07",
   "metadata": {},
   "outputs": [],
   "source": [
    "import nltk\n",
    "import string "
   ]
  },
  {
   "cell_type": "code",
   "execution_count": 28,
   "id": "65123aa7",
   "metadata": {},
   "outputs": [],
   "source": [
    " #from nltk import CFG"
   ]
  },
  {
   "cell_type": "code",
   "execution_count": 38,
   "id": "8e9acc4a",
   "metadata": {},
   "outputs": [],
   "source": [
    "from nltk.parse.generate import generate"
   ]
  },
  {
   "cell_type": "code",
   "execution_count": 30,
   "id": "6eb8140a",
   "metadata": {},
   "outputs": [],
   "source": [
    "production = [\n",
    "    \"ROOT -> WORD\",\n",
    "    \"WORD -> ' '\"\n",
    "]"
   ]
  },
  {
   "cell_type": "code",
   "execution_count": 31,
   "id": "21363b63",
   "metadata": {},
   "outputs": [],
   "source": [
    "alphabets = list(string.digits)"
   ]
  },
  {
   "cell_type": "code",
   "execution_count": 32,
   "id": "67887c26",
   "metadata": {},
   "outputs": [],
   "source": [
    "for alphabet in alphabets:\n",
    "    production.append(\"WORD -> '[w]' WORD '{w}'\".format(w=alphabet))"
   ]
  },
  {
   "cell_type": "code",
   "execution_count": 33,
   "id": "8473bde8",
   "metadata": {},
   "outputs": [],
   "source": [
    "grammarString = \"\\n\".join(production)"
   ]
  },
  {
   "cell_type": "code",
   "execution_count": 34,
   "id": "12b76618",
   "metadata": {},
   "outputs": [],
   "source": [
    "grammar = nltk.CFG.fromstring(grammarString)"
   ]
  },
  {
   "cell_type": "code",
   "execution_count": 35,
   "id": "7e65f2a1",
   "metadata": {},
   "outputs": [
    {
     "name": "stdout",
     "output_type": "stream",
     "text": [
      "Grammar with 12 productions (start state = ROOT)\n",
      "    ROOT -> WORD\n",
      "    WORD -> ' '\n",
      "    WORD -> '[w]' WORD '0'\n",
      "    WORD -> '[w]' WORD '1'\n",
      "    WORD -> '[w]' WORD '2'\n",
      "    WORD -> '[w]' WORD '3'\n",
      "    WORD -> '[w]' WORD '4'\n",
      "    WORD -> '[w]' WORD '5'\n",
      "    WORD -> '[w]' WORD '6'\n",
      "    WORD -> '[w]' WORD '7'\n",
      "    WORD -> '[w]' WORD '8'\n",
      "    WORD -> '[w]' WORD '9'\n"
     ]
    }
   ],
   "source": [
    "print(grammar)"
   ]
  },
  {
   "cell_type": "code",
   "execution_count": 39,
   "id": "ce315d41",
   "metadata": {},
   "outputs": [
    {
     "name": "stdout",
     "output_type": "stream",
     "text": [
      "Palindrome : , Size : 0\n",
      "Palindrome : [w]0, Size : 4\n",
      "Palindrome : [w][w]00, Size : 8\n",
      "Palindrome : [w][w]10, Size : 8\n",
      "Palindrome : [w][w]20, Size : 8\n"
     ]
    }
   ],
   "source": [
    "for sentence in generate(grammar, n=5,depth=5):\n",
    "    palindrome = \"\".join(sentence).replace(\" \",\"\")\n",
    "    print(\"Palindrome : {}, Size : {}\".format(palindrome, len(palindrome)))"
   ]
  },
  {
   "cell_type": "code",
   "execution_count": null,
   "id": "d2ef91e3",
   "metadata": {},
   "outputs": [],
   "source": []
  }
 ],
 "metadata": {
  "kernelspec": {
   "display_name": "Python 3",
   "language": "python",
   "name": "python3"
  },
  "language_info": {
   "codemirror_mode": {
    "name": "ipython",
    "version": 3
   },
   "file_extension": ".py",
   "mimetype": "text/x-python",
   "name": "python",
   "nbconvert_exporter": "python",
   "pygments_lexer": "ipython3",
   "version": "3.8.8"
  }
 },
 "nbformat": 4,
 "nbformat_minor": 5
}
