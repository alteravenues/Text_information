{
 "cells": [
  {
   "cell_type": "code",
   "execution_count": 2,
   "id": "f10f3dff",
   "metadata": {},
   "outputs": [],
   "source": [
    "import nltk\n",
    "from nltk.parse.generate import generate"
   ]
  },
  {
   "cell_type": "code",
   "execution_count": 8,
   "id": "6c6aa017",
   "metadata": {},
   "outputs": [],
   "source": [
    "productions = [\n",
    "    \"ROOT -> WORD [1.0]\",\n",
    "    \"WORD -> P1 [0.25]\",\n",
    "    \"WORD -> P1 P2[0.25]\",\n",
    "    \"WORD -> P1 P2 P3 [0.25]\",\n",
    "    \"WORD -> P1 P2 P3 P4 [0.25]\",\n",
    "    \"P1 -> 'A' [1.0]\",\n",
    "    \"P2 -> 'B' [0.5]\",\n",
    "    \"P2 -> 'C' [0.5]\",\n",
    "    \"P3 -> 'D' [0.3]\",\n",
    "    \"P3 -> 'E' [0.3]\",\n",
    "    \"P3 -> 'F' [0.4]\",\n",
    "    \"P4 -> 'G' [0.9]\",\n",
    "    \"P4 -> 'H' [0.1]\",\n",
    "]"
   ]
  },
  {
   "cell_type": "code",
   "execution_count": 10,
   "id": "36d47877",
   "metadata": {},
   "outputs": [],
   "source": [
    "grammarString = \"\\n\".join(productions)"
   ]
  },
  {
   "cell_type": "code",
   "execution_count": 11,
   "id": "9b353936",
   "metadata": {},
   "outputs": [],
   "source": [
    "grammar = nltk.PCFG.fromstring(grammarString)"
   ]
  },
  {
   "cell_type": "code",
   "execution_count": 12,
   "id": "3fac1618",
   "metadata": {},
   "outputs": [
    {
     "name": "stdout",
     "output_type": "stream",
     "text": [
      "Grammar with 13 productions (start state = ROOT)\n",
      "    ROOT -> WORD [1.0]\n",
      "    WORD -> P1 [0.25]\n",
      "    WORD -> P1 P2 [0.25]\n",
      "    WORD -> P1 P2 P3 [0.25]\n",
      "    WORD -> P1 P2 P3 P4 [0.25]\n",
      "    P1 -> 'A' [1.0]\n",
      "    P2 -> 'B' [0.5]\n",
      "    P2 -> 'C' [0.5]\n",
      "    P3 -> 'D' [0.3]\n",
      "    P3 -> 'E' [0.3]\n",
      "    P3 -> 'F' [0.4]\n",
      "    P4 -> 'G' [0.9]\n",
      "    P4 -> 'H' [0.1]\n"
     ]
    }
   ],
   "source": [
    "print(grammar)"
   ]
  },
  {
   "cell_type": "code",
   "execution_count": 15,
   "id": "18e17f85",
   "metadata": {},
   "outputs": [
    {
     "name": "stdout",
     "output_type": "stream",
     "text": [
      "String : A, Size : 1\n",
      "String : AB, Size : 2\n",
      "String : AC, Size : 2\n",
      "String : ABD, Size : 3\n",
      "String : ABE, Size : 3\n",
      "String : ABF, Size : 3\n",
      "String : ACD, Size : 3\n",
      "String : ACE, Size : 3\n",
      "String : ACF, Size : 3\n",
      "String : ABDG, Size : 4\n"
     ]
    }
   ],
   "source": [
    "for sentence in generate(grammar, n=10, depth=5):\n",
    "    palindrome = \"\".join(sentence).replace(\" \",\"\")\n",
    "    print(\"String : {}, Size : {}\".format(palindrome, len(palindrome)))"
   ]
  },
  {
   "cell_type": "code",
   "execution_count": null,
   "id": "11836873",
   "metadata": {},
   "outputs": [],
   "source": []
  },
  {
   "cell_type": "code",
   "execution_count": null,
   "id": "a24ada59",
   "metadata": {},
   "outputs": [],
   "source": []
  }
 ],
 "metadata": {
  "kernelspec": {
   "display_name": "Python 3",
   "language": "python",
   "name": "python3"
  },
  "language_info": {
   "codemirror_mode": {
    "name": "ipython",
    "version": 3
   },
   "file_extension": ".py",
   "mimetype": "text/x-python",
   "name": "python",
   "nbconvert_exporter": "python",
   "pygments_lexer": "ipython3",
   "version": "3.8.8"
  }
 },
 "nbformat": 4,
 "nbformat_minor": 5
}
