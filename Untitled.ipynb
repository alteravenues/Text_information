{
 "cells": [
  {
   "cell_type": "code",
   "execution_count": null,
   "id": "c2be966a",
   "metadata": {},
   "outputs": [],
   "source": [
    "print(\"사진 : \",news_dict2[x]['img'])\n",
    "    print(\"제목 : \",news_dict[x]['title'])\n",
    "    print(\"링크 : \",news_dict[x]['url'])\n",
    "    print(\"===================================================================================\")"
   ]
  },
  {
   "cell_type": "code",
   "execution_count": null,
   "id": "6ca2a0d8",
   "metadata": {},
   "outputs": [],
   "source": [
    "for x in range(0, news_num):\n",
    "        newslist.append(\"<img src=\" + str(news_dict2[x]['img']) + \"><br>\")\n",
    "        newslist.append(\"<a href=\" + str(news_dict[x]['url'])+\">\"+str(news_dict[x]['title']) + \"</a><br>\")\n",
    "\n",
    "    return newslist"
   ]
  },
  {
   "cell_type": "code",
   "execution_count": null,
   "id": "fcab2266",
   "metadata": {},
   "outputs": [],
   "source": [
    "print('신규 확진자:', int(dd['response']['body']['items']['item'][i]['incDec']))\n",
    "            # 시 도별 누적 확진자가 궁금한가?\n",
    "            print('누적 확진자:', dd['response']['body']['items']['item'][i]['defCnt'])\n",
    "\n",
    "            print('격리중 환자 :', dd['response']['body']['items']['item'][i]['isolIngCnt'])\n",
    "            print()"
   ]
  }
 ],
 "metadata": {
  "kernelspec": {
   "display_name": "Python 3",
   "language": "python",
   "name": "python3"
  },
  "language_info": {
   "codemirror_mode": {
    "name": "ipython",
    "version": 3
   },
   "file_extension": ".py",
   "mimetype": "text/x-python",
   "name": "python",
   "nbconvert_exporter": "python",
   "pygments_lexer": "ipython3",
   "version": "3.8.8"
  }
 },
 "nbformat": 4,
 "nbformat_minor": 5
}
