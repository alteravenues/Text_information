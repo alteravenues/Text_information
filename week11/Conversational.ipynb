{
 "cells": [
  {
   "cell_type": "code",
   "execution_count": 2,
   "id": "f3077326",
   "metadata": {},
   "outputs": [],
   "source": [
    "import nltk"
   ]
  },
  {
   "cell_type": "code",
   "execution_count": null,
   "id": "b6c3084e",
   "metadata": {},
   "outputs": [
    {
     "name": "stdout",
     "output_type": "stream",
     "text": [
      "=== demo of eliza===\n",
      "Therapist\n",
      "---------\n",
      "Talk to the program by typing in plain English, using normal upper-\n",
      "and lower-case letters and punctuation.  Enter \"quit\" when done.\n",
      "========================================================================\n",
      "Hello.  How are you feeling today?\n",
      ">good\n",
      "How does that make you feel?\n",
      ">because i finish my test\n",
      "Does that reason apply to anything else?\n",
      ">good\n",
      "How does that make you feel?\n",
      ">good\n",
      "Please tell me more.\n",
      ">good\n",
      "Why do you say that good?\n",
      ">good\n",
      "How do you feel when you say that?\n",
      ">good\n",
      "I see.\n",
      ">good\n",
      "How does that make you feel?\n",
      ">sleep\n",
      "I see.  And what does that tell you?\n",
      ">?\n",
      "Why do you ask that?\n",
      ">your answer is fuck\n",
      "Very interesting.\n",
      ">?\n",
      "Why don't you tell me?\n",
      ">well\n",
      "Can you elaborate on that?\n",
      ">sorry i dont understand\n",
      "Very interesting.\n",
      ">interesting\n",
      "Please tell me more.\n",
      ">sorry\n",
      "How do you feel when you say that?\n",
      ">goodbye\n",
      "goodbye.\n",
      ">end\n",
      "I see.\n"
     ]
    }
   ],
   "source": [
    "def builtinEngines(whichOne):\n",
    "    if whichOne == 'eliza':\n",
    "        nltk.chat.eliza.demo()\n",
    "    elif whichOne == 'iesha':\n",
    "        nltk.chat.iesha.demo()\n",
    "    elif whichOne == 'rude':\n",
    "        nltk.chat.rude.demo()\n",
    "    elif whichOne == 'suntsu':\n",
    "        nltk.chat.suntsu.demo()\n",
    "    elif whichOne == 'zen':\n",
    "        nltk.chat.zen.demo()\n",
    "    else:\n",
    "        print(\"unknown built-in chat engine {}\".format(whichOne))\n",
    "\n",
    "def myEngine():\n",
    "    chatpairs = (\n",
    "    (r\"(.*?)Stock price(.*)\",\n",
    "        (\"Today stock price is 100\",\n",
    "         \"I am unable to find out the stock price.\")),\n",
    "    (r\"(.*?)not well(.*)\",\n",
    "        (\"Oh, take care. May be you should visit a doctor\",\n",
    "         \"Did you take some medicine?\")),\n",
    "    (r\"(.*?)raining(.*)\",\n",
    "        (\"Its monsoon season, what more do you expect?\",\n",
    "         \"Yes, its good for farmers\")),\n",
    "    (r\"How(.*?)health(.*)\",\n",
    "        (\"I am alwatys healthy.\",\n",
    "         \"I am a porgram, super healthy!\")),\n",
    "    (r\".*\",\n",
    "        (\"I am good. How are you today?\",\n",
    "         \"What brings you here?\")),\n",
    "        \n",
    "    )\n",
    "\n",
    "def chat():\n",
    "    print(\"!\"*80)\n",
    "    print(\" >> my Engine <<\")\n",
    "    print(\"Talk to the program using normal english\")\n",
    "    print(\"=\"*80)\n",
    "    print(\"Enter 'quit' when done\")\n",
    "    chatbot = nltk.chat.util.Chat(chatpairs, nltk.chat.util.reflections)\n",
    "    charbot.converse()\n",
    "    \n",
    "if __name__ == '__main__':\n",
    "    for engine in ['eliza', 'iesha', 'rude', 'suntsu', 'zen']:\n",
    "        print(\"=== demo of {}===\".format(engine))\n",
    "        builtinEngines(engine)\n",
    "        print()\n",
    "    myEngine()"
   ]
  },
  {
   "cell_type": "code",
   "execution_count": null,
   "id": "320961ae",
   "metadata": {},
   "outputs": [],
   "source": []
  },
  {
   "cell_type": "code",
   "execution_count": null,
   "id": "17c90480",
   "metadata": {},
   "outputs": [],
   "source": []
  },
  {
   "cell_type": "code",
   "execution_count": null,
   "id": "aa6ee50b",
   "metadata": {},
   "outputs": [],
   "source": []
  },
  {
   "cell_type": "code",
   "execution_count": null,
   "id": "2f54ac5f",
   "metadata": {},
   "outputs": [],
   "source": []
  }
 ],
 "metadata": {
  "kernelspec": {
   "display_name": "Python 3",
   "language": "python",
   "name": "python3"
  },
  "language_info": {
   "codemirror_mode": {
    "name": "ipython",
    "version": 3
   },
   "file_extension": ".py",
   "mimetype": "text/x-python",
   "name": "python",
   "nbconvert_exporter": "python",
   "pygments_lexer": "ipython3",
   "version": "3.8.8"
  }
 },
 "nbformat": 4,
 "nbformat_minor": 5
}
