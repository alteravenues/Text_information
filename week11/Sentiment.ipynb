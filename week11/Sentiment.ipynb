{
 "cells": [
  {
   "cell_type": "code",
   "execution_count": 9,
   "id": "ebd20727",
   "metadata": {},
   "outputs": [],
   "source": [
    "import nltk\n",
    "import nltk.sentiment.sentiment_analyzer\n",
    "import nltk.sentiment.util"
   ]
  },
  {
   "cell_type": "code",
   "execution_count": 10,
   "id": "4ec140e2",
   "metadata": {},
   "outputs": [
    {
     "name": "stdout",
     "output_type": "stream",
     "text": [
      " --single word sentiment --\n",
      " --multi word sentiment-- \n",
      "{'contains(heavy - rains)': True, 'contains(flood - bengaluru)': False}\n",
      " --negativity--\n",
      "['Rainfall', 'last', 'year', 'did', 'not', 'bring_NEG', 'joy_NEG', 'to_NEG', 'Farmers_NEG']\n"
     ]
    }
   ],
   "source": [
    "def wordBasedSentiment():\n",
    "    positive_words = ['love', 'hope', 'joy']\n",
    "    text = 'Rainfall this year brings lot of hope and joy to Farmers'.split()\n",
    "    analysis = nltk.sentiment.util.extract_unigram_feats(text, positive_words)\n",
    "    print(' --single word sentiment --')\n",
    "\n",
    "def multiWordBasedSentiment():\n",
    "    word_sets = [('heavy', 'rains'),('flood', 'bengaluru')]\n",
    "    text = 'heavy rains cause flash flooding in bengaluru'.split()\n",
    "    analysis = nltk.sentiment.util.extract_bigram_feats(text, word_sets)\n",
    "    print(' --multi word sentiment-- ')\n",
    "    print(analysis)\n",
    "    \n",
    "def markNegativity():\n",
    "    text = 'Rainfall last year did not bring joy to Farmers'.split()\n",
    "    negation = nltk.sentiment.util.mark_negation(text)\n",
    "    print(\" --negativity--\")\n",
    "    print(negation)\n",
    "    \n",
    "if __name__ == '__main__':\n",
    "    wordBasedSentiment()\n",
    "    multiWordBasedSentiment()\n",
    "    markNegativity()"
   ]
  },
  {
   "cell_type": "code",
   "execution_count": null,
   "id": "6a910e4f",
   "metadata": {},
   "outputs": [],
   "source": []
  }
 ],
 "metadata": {
  "kernelspec": {
   "display_name": "Python 3",
   "language": "python",
   "name": "python3"
  },
  "language_info": {
   "codemirror_mode": {
    "name": "ipython",
    "version": 3
   },
   "file_extension": ".py",
   "mimetype": "text/x-python",
   "name": "python",
   "nbconvert_exporter": "python",
   "pygments_lexer": "ipython3",
   "version": "3.8.8"
  }
 },
 "nbformat": 4,
 "nbformat_minor": 5
}
