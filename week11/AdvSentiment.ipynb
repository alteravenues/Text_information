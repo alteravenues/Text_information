{
 "cells": [
  {
   "cell_type": "code",
   "execution_count": 7,
   "id": "dcba9843",
   "metadata": {},
   "outputs": [
    {
     "name": "stderr",
     "output_type": "stream",
     "text": [
      "[nltk_data] Downloading package vader_lexicon to\n",
      "[nltk_data]     C:\\Users\\alter\\AppData\\Roaming\\nltk_data...\n"
     ]
    }
   ],
   "source": [
    "import nltk\n",
    "import nltk.sentiment.util\n",
    "import nltk.sentiment.sentiment_analyzer\n",
    "nltk.download('vader_lexicon')\n",
    "from nltk.sentiment.vader import SentimentIntensityAnalyzer"
   ]
  },
  {
   "cell_type": "code",
   "execution_count": 9,
   "id": "cdba4c64",
   "metadata": {},
   "outputs": [
    {
     "name": "stdout",
     "output_type": "stream",
     "text": [
      " -- built_in intensity analyser --\n",
      "[:)] --> neg = 0.0, neu = 0.0, pos = 1.0, compound = 0.4588, \n",
      "[:(] --> neg = 1.0, neu = 0.0, pos = 0.0, compound = -0.4404, \n",
      "[She is so :(] --> neg = 0.555, neu = 0.445, pos = 0.0, compound = -0.5777, \n",
      "[I love the way cricket is played by the champions] --> neg = 0.0, neu = 0.375, pos = 0.625, compound = 0.875, \n",
      "[She neither likes coffee nor tea] --> neg = 0.318, neu = 0.682, pos = 0.0, compound = -0.3252, \n",
      "\n",
      "\n",
      " -- custom scorer --\n",
      "score = None for >> I love the items in this shop, very genuine and quality is well maintained.\n",
      "score = None for >>     I have visited this shop and had samosa, my friends liked it very much.\n",
      "score = None for >>     ok average food in this shop.\n",
      "score = None for >>     Fridays are very busy in this shop, do not place orders during this day.\n"
     ]
    }
   ],
   "source": [
    "def mySentimentAnalyzer():\n",
    "    def score_feedback(text):\n",
    "        positive_words = ['love', 'genuine','liked']\n",
    "        if '_NEG' in ' '.join(nltk.sentiment.util.mark_negation(text.split())):\n",
    "            score = -1\n",
    "        else:\n",
    "            analysis = nltk.sentiment.util.extract_unigram_feats(text.split(), positive_words)\n",
    "            if True in analysis.values():\n",
    "                score = 1\n",
    "            else:\n",
    "                score = 0\n",
    "                \n",
    "    feedback = \"\"\"I love the items in this shop, very genuine and quality is well maintained.\n",
    "    I have visited this shop and had samosa, my friends liked it very much.\n",
    "    ok average food in this shop.\n",
    "    Fridays are very busy in this shop, do not place orders during this day.\"\"\"\n",
    "    print(\"\\n\")\n",
    "    print(' -- custom scorer --')\n",
    "    for text in feedback.split(\"\\n\"):\n",
    "        print(\"score = {} for >> {}\".format(score_feedback(text),text))\n",
    "        \n",
    "def advancedSentimentAnalyzer():\n",
    "    sentences = [\n",
    "            ':)',\n",
    "            ':(',\n",
    "            'She is so :(',\n",
    "            'I love the way cricket is played by the champions',\n",
    "            'She neither likes coffee nor tea',\n",
    "    ]\n",
    "    senti = SentimentIntensityAnalyzer()\n",
    "    print(' -- built_in intensity analyser --')\n",
    "    for sentence in sentences:\n",
    "        print('[{}]'.format(sentence),end=' --> ')\n",
    "        kvp = senti.polarity_scores(sentence)\n",
    "        for k in kvp:\n",
    "            print('{} = {}, '.format(k,kvp[k]), end='')\n",
    "        print()\n",
    "            \n",
    "if __name__ == '__main__':\n",
    "    advancedSentimentAnalyzer()\n",
    "    mySentimentAnalyzer()"
   ]
  },
  {
   "cell_type": "code",
   "execution_count": null,
   "id": "f564a97b",
   "metadata": {},
   "outputs": [],
   "source": []
  }
 ],
 "metadata": {
  "kernelspec": {
   "display_name": "Python 3",
   "language": "python",
   "name": "python3"
  },
  "language_info": {
   "codemirror_mode": {
    "name": "ipython",
    "version": 3
   },
   "file_extension": ".py",
   "mimetype": "text/x-python",
   "name": "python",
   "nbconvert_exporter": "python",
   "pygments_lexer": "ipython3",
   "version": "3.8.8"
  }
 },
 "nbformat": 4,
 "nbformat_minor": 5
}
