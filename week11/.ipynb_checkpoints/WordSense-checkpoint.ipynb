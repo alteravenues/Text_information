{
 "cells": [
  {
   "cell_type": "code",
   "execution_count": 7,
   "id": "4bc13478",
   "metadata": {},
   "outputs": [
    {
     "name": "stdout",
     "output_type": "stream",
     "text": [
      "--example--\n",
      "wind -> wind.n.01 -> trees bent under the fierce winds\n",
      "wind -> wind.n.01 -> when there is no wind, row\n",
      "wind -> wind.n.02 -> the winds of change\n",
      "data -> data.n.01 -> statistical data\n",
      "left -> left.n.01 -> she stood on the left\n",
      "--nulit-in wsd--\n",
      "Sense 'Is if the fish net that you are using to catch fish?' for 'fish' -> 'Synset('pisces.n.02')'\n",
      "Sense 'Please dont point your finger at others.' for 'point' -> 'Synset('point.n.25')'\n",
      "Sense 'I went th the river bank to see the sun rise' for 'bank' -> 'Synset('savings_bank.n.02')'\n"
     ]
    }
   ],
   "source": [
    "import nltk\n",
    "\n",
    "def understandWordSenseExample():\n",
    "    words = ['wind','data','left']\n",
    "    print(\"--example--\")\n",
    "    for word in words:\n",
    "        syns = nltk.corpus.wordnet.synsets(word)\n",
    "        for syn in syns[:2]:\n",
    "            for example in syn.examples()[:2]:\n",
    "                print(\"{} -> {} -> {}\".format(word, syn.name(), example))\n",
    "\n",
    "def understandBuiltinWSD():\n",
    "    print(\"--nulit-in wsd--\")\n",
    "    maps = [\n",
    "        ('Is if the fish net that you are using to catch fish?', 'fish','n'),\n",
    "        ('Please dont point your finger at others.', 'point', 'n'),\n",
    "        ('I went th the river bank to see the sun rise', 'bank', 'n'),\n",
    "    ]\n",
    "    for m in maps:\n",
    "        print(\"Sense '{}' for '{}' -> '{}'\".format(m[0],m[1], nltk.wsd.lesk(m[0],m[1],m[2])))\n",
    "\n",
    "if __name__ == '__main__':\n",
    "    understandWordSenseExample()\n",
    "    understandBuiltinWSD()"
   ]
  },
  {
   "cell_type": "code",
   "execution_count": null,
   "id": "440f9c45",
   "metadata": {},
   "outputs": [],
   "source": []
  }
 ],
 "metadata": {
  "kernelspec": {
   "display_name": "Python 3",
   "language": "python",
   "name": "python3"
  },
  "language_info": {
   "codemirror_mode": {
    "name": "ipython",
    "version": 3
   },
   "file_extension": ".py",
   "mimetype": "text/x-python",
   "name": "python",
   "nbconvert_exporter": "python",
   "pygments_lexer": "ipython3",
   "version": "3.8.8"
  }
 },
 "nbformat": 4,
 "nbformat_minor": 5
}
