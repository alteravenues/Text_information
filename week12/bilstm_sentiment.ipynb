{
 "cells": [
  {
   "cell_type": "code",
   "execution_count": 5,
   "id": "802be51c",
   "metadata": {},
   "outputs": [],
   "source": [
    "from __future__ import print_function\n",
    "\n",
    "import numpy as np\n",
    "import pandas as pd\n",
    "\n",
    "from keras.preprocessing import sequence\n",
    "from keras.models import Sequential\n",
    "from keras.layers import Dense, Dropout, Embedding, LSTM, Bidirectional\n",
    "from keras.datasets import imdb\n",
    "\n",
    "from sklearn.metrics import accuracy_score, classification_report\n"
   ]
  },
  {
   "cell_type": "code",
   "execution_count": 6,
   "id": "002ea480",
   "metadata": {},
   "outputs": [
    {
     "name": "stdout",
     "output_type": "stream",
     "text": [
      "25000 train observations\n",
      "25000 test observations\n"
     ]
    }
   ],
   "source": [
    "max_features = 15000\n",
    "max_len = 300\n",
    "batch_size = 64\n",
    "\n",
    "(x_train, y_train), (x_test, y_test) = imdb.load_data(num_words=max_features)\n",
    "print(len(x_train), 'train observations')\n",
    "print(len(x_test), 'test observations')"
   ]
  },
  {
   "cell_type": "code",
   "execution_count": 7,
   "id": "ebdf9d96",
   "metadata": {},
   "outputs": [
    {
     "name": "stdout",
     "output_type": "stream",
     "text": [
      "x_train shape: (25000, 300)\n",
      "x_test shape: (25000, 300)\n"
     ]
    }
   ],
   "source": [
    "x_train_2 = sequence.pad_sequences(x_train, maxlen=max_len)\n",
    "x_test_2 = sequence.pad_sequences(x_test, maxlen=max_len)\n",
    "print('x_train shape:', x_train_2.shape)\n",
    "print('x_test shape:', x_test_2.shape)\n",
    "\n",
    "y_train = np.array(y_train)\n",
    "y_test = np.array(y_test)"
   ]
  },
  {
   "cell_type": "code",
   "execution_count": 10,
   "id": "1719e2bd",
   "metadata": {},
   "outputs": [
    {
     "name": "stdout",
     "output_type": "stream",
     "text": [
      "Model: \"sequential_2\"\n",
      "_________________________________________________________________\n",
      " Layer (type)                Output Shape              Param #   \n",
      "=================================================================\n",
      " embedding_2 (Embedding)     (None, 300, 128)          1920000   \n",
      "                                                                 \n",
      " bidirectional_2 (Bidirectio  (None, 128)              98816     \n",
      " nal)                                                            \n",
      "                                                                 \n",
      " dropout_2 (Dropout)         (None, 128)               0         \n",
      "                                                                 \n",
      " dense_2 (Dense)             (None, 1)                 129       \n",
      "                                                                 \n",
      "=================================================================\n",
      "Total params: 2,018,945\n",
      "Trainable params: 2,018,945\n",
      "Non-trainable params: 0\n",
      "_________________________________________________________________\n",
      "None\n"
     ]
    }
   ],
   "source": [
    "model = Sequential()\n",
    "model.add(Embedding(max_features, 128, input_length=max_len))\n",
    "model.add(Bidirectional(LSTM(64)))\n",
    "model.add(Dropout(0.5))\n",
    "model.add(Dense(1, activation='sigmoid'))\n",
    "\n",
    "model.compile('adam', 'binary_crossentropy', metrics=['accuracy'])\n",
    "print(model.summary())"
   ]
  },
  {
   "cell_type": "code",
   "execution_count": 11,
   "id": "bccd7e1a",
   "metadata": {},
   "outputs": [
    {
     "name": "stdout",
     "output_type": "stream",
     "text": [
      "Epoch 1/4\n",
      "313/313 [==============================] - 88s 275ms/step - loss: 0.4732 - accuracy: 0.7737 - val_loss: 0.3301 - val_accuracy: 0.8702\n",
      "Epoch 2/4\n",
      "313/313 [==============================] - 81s 258ms/step - loss: 0.2492 - accuracy: 0.9079 - val_loss: 0.3159 - val_accuracy: 0.8668\n",
      "Epoch 3/4\n",
      "313/313 [==============================] - 82s 261ms/step - loss: 0.1727 - accuracy: 0.9388 - val_loss: 0.3489 - val_accuracy: 0.8630\n",
      "Epoch 4/4\n",
      "313/313 [==============================] - 82s 262ms/step - loss: 0.1237 - accuracy: 0.9581 - val_loss: 0.3935 - val_accuracy: 0.8726\n"
     ]
    },
    {
     "data": {
      "text/plain": [
       "<keras.callbacks.History at 0x1f2f73d4f70>"
      ]
     },
     "execution_count": 11,
     "metadata": {},
     "output_type": "execute_result"
    }
   ],
   "source": [
    "model.fit(x_train_2, y_train, batch_size=batch_size, epochs=4, validation_split=0.2)"
   ]
  },
  {
   "cell_type": "code",
   "execution_count": 12,
   "id": "ad94cd4f",
   "metadata": {},
   "outputs": [
    {
     "name": "stdout",
     "output_type": "stream",
     "text": [
      "\n",
      "\n",
      "LSTM Bidrectional Sentiment Classification - Train Accuracy: 0.961\n",
      "\n",
      "LSTM Bidrectional Sentiment Classification of Traing data\n",
      "               precision    recall  f1-score   support\n",
      "\n",
      "           0       0.96      0.97      0.96     12500\n",
      "           1       0.97      0.96      0.96     12500\n",
      "\n",
      "    accuracy                           0.96     25000\n",
      "   macro avg       0.96      0.96      0.96     25000\n",
      "weighted avg       0.96      0.96      0.96     25000\n",
      "\n",
      "\n",
      "LSTM Bidrectional Sentiment Classification - Train Confusion Matrix\n",
      "\n",
      " Predicted      0      1\n",
      "Actuall                \n",
      "0          12086    414\n",
      "1            560  11940\n",
      "\n",
      "LSTM Bidrectional Sentiment Classification - Test accuracy: 0.863\n",
      "\n",
      "LSTM Bidrectional Sentiment Classification of Test data\n",
      "               precision    recall  f1-score   support\n",
      "\n",
      "           0       0.85      0.88      0.87     12500\n",
      "           1       0.88      0.84      0.86     12500\n",
      "\n",
      "    accuracy                           0.86     25000\n",
      "   macro avg       0.86      0.86      0.86     25000\n",
      "weighted avg       0.86      0.86      0.86     25000\n",
      "\n",
      "\n",
      "LSTM Bidrectional Sentiment Classification - Test Confusion Matrix\n",
      "\n",
      " Predicted      0      1\n",
      "Actuall                \n",
      "0          11041   1459\n",
      "1           1962  10538\n"
     ]
    }
   ],
   "source": [
    "y_train_predclass = np.round(model.predict(x_train_2)).astype(int)\n",
    "y_test_predclass = np.round(model.predict(x_test_2)).astype(int)\n",
    "\n",
    "y_train_predclass.shape = y_train.shape\n",
    "y_test_predclass.shape = y_test.shape\n",
    "\n",
    "print(('\\n\\nLSTM Bidrectional Sentiment Classification - Train Accuracy:'),(round(accuracy_score(y_train, y_train_predclass),3)))\n",
    "print('\\nLSTM Bidrectional Sentiment Classification of Traing data\\n',classification_report(y_train, y_train_predclass))\n",
    "print('\\nLSTM Bidrectional Sentiment Classification - Train Confusion Matrix\\n\\n', pd.crosstab(y_train, y_train_predclass,rownames=['Actuall'],colnames=['Predicted']))\n",
    "      \n",
    "print(('\\nLSTM Bidrectional Sentiment Classification - Test accuracy:'),(round(accuracy_score(y_test,y_test_predclass),3)))\n",
    "print('\\nLSTM Bidrectional Sentiment Classification of Test data\\n',classification_report(y_test,y_test_predclass))\n",
    "print('\\nLSTM Bidrectional Sentiment Classification - Test Confusion Matrix\\n\\n', pd.crosstab(y_test,y_test_predclass,rownames=['Actuall'],colnames=['Predicted']))\n",
    "      "
   ]
  }
 ],
 "metadata": {
  "kernelspec": {
   "display_name": "Python 3",
   "language": "python",
   "name": "python3"
  },
  "language_info": {
   "codemirror_mode": {
    "name": "ipython",
    "version": 3
   },
   "file_extension": ".py",
   "mimetype": "text/x-python",
   "name": "python",
   "nbconvert_exporter": "python",
   "pygments_lexer": "ipython3",
   "version": "3.8.8"
  }
 },
 "nbformat": 4,
 "nbformat_minor": 5
}
