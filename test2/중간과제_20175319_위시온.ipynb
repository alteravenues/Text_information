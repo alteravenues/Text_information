{
 "cells": [
  {
   "cell_type": "markdown",
   "metadata": {
    "id": "CeLahma8BSja"
   },
   "source": [
    "문제 1"
   ]
  },
  {
   "cell_type": "code",
   "execution_count": 100,
   "metadata": {
    "executionInfo": {
     "elapsed": 245,
     "status": "ok",
     "timestamp": 1635678267281,
     "user": {
      "displayName": "위시온",
      "photoUrl": "https://lh3.googleusercontent.com/a/default-user=s64",
      "userId": "16033311869056429513"
     },
     "user_tz": -540
    },
    "id": "H3rBARevBYt4"
   },
   "outputs": [],
   "source": [
    "import nltk"
   ]
  },
  {
   "cell_type": "code",
   "execution_count": 101,
   "metadata": {
    "executionInfo": {
     "elapsed": 244,
     "status": "ok",
     "timestamp": 1635678273645,
     "user": {
      "displayName": "위시온",
      "photoUrl": "https://lh3.googleusercontent.com/a/default-user=s64",
      "userId": "16033311869056429513"
     },
     "user_tz": -540
    },
    "id": "qCl0N8DRBa8K"
   },
   "outputs": [],
   "source": [
    "from nltk import WordPunctTokenizer"
   ]
  },
  {
   "cell_type": "code",
   "execution_count": 102,
   "metadata": {
    "colab": {
     "base_uri": "https://localhost:8080/"
    },
    "executionInfo": {
     "elapsed": 239,
     "status": "ok",
     "timestamp": 1635678281397,
     "user": {
      "displayName": "위시온",
      "photoUrl": "https://lh3.googleusercontent.com/a/default-user=s64",
      "userId": "16033311869056429513"
     },
     "user_tz": -540
    },
    "id": "pfhHUTKaBc7K",
    "outputId": "0087084e-0cc5-42d2-c80d-4b297267021b"
   },
   "outputs": [
    {
     "name": "stdout",
     "output_type": "stream",
     "text": [
      "[nltk_data] Downloading package stopwords to /root/nltk_data...\n",
      "[nltk_data]   Unzipping corpora/stopwords.zip.\n"
     ]
    },
    {
     "data": {
      "text/plain": [
       "True"
      ]
     },
     "execution_count": 102,
     "metadata": {},
     "output_type": "execute_result"
    }
   ],
   "source": [
    "nltk.download('stopwords')"
   ]
  },
  {
   "cell_type": "code",
   "execution_count": 103,
   "metadata": {
    "executionInfo": {
     "elapsed": 265,
     "status": "ok",
     "timestamp": 1635678293293,
     "user": {
      "displayName": "위시온",
      "photoUrl": "https://lh3.googleusercontent.com/a/default-user=s64",
      "userId": "16033311869056429513"
     },
     "user_tz": -540
    },
    "id": "iu5x79prBe51"
   },
   "outputs": [],
   "source": [
    "text = 'Family is not an important thing. It`s everything.'"
   ]
  },
  {
   "cell_type": "code",
   "execution_count": 104,
   "metadata": {
    "executionInfo": {
     "elapsed": 245,
     "status": "ok",
     "timestamp": 1635678298144,
     "user": {
      "displayName": "위시온",
      "photoUrl": "https://lh3.googleusercontent.com/a/default-user=s64",
      "userId": "16033311869056429513"
     },
     "user_tz": -540
    },
    "id": "DGL8K00yBfTx"
   },
   "outputs": [],
   "source": [
    "tokenizer = WordPunctTokenizer()"
   ]
  },
  {
   "cell_type": "code",
   "execution_count": 105,
   "metadata": {
    "executionInfo": {
     "elapsed": 852,
     "status": "ok",
     "timestamp": 1635678304967,
     "user": {
      "displayName": "위시온",
      "photoUrl": "https://lh3.googleusercontent.com/a/default-user=s64",
      "userId": "16033311869056429513"
     },
     "user_tz": -540
    },
    "id": "xTQONM_8BiSg"
   },
   "outputs": [],
   "source": [
    "word_tokens = tokenizer.tokenize(text)"
   ]
  },
  {
   "cell_type": "code",
   "execution_count": 106,
   "metadata": {
    "executionInfo": {
     "elapsed": 639,
     "status": "ok",
     "timestamp": 1635678310612,
     "user": {
      "displayName": "위시온",
      "photoUrl": "https://lh3.googleusercontent.com/a/default-user=s64",
      "userId": "16033311869056429513"
     },
     "user_tz": -540
    },
    "id": "iFeOGfh-Bj6T"
   },
   "outputs": [],
   "source": [
    "stop_words = nltk.corpus.stopwords.words('english')"
   ]
  },
  {
   "cell_type": "code",
   "execution_count": 107,
   "metadata": {
    "executionInfo": {
     "elapsed": 241,
     "status": "ok",
     "timestamp": 1635678316994,
     "user": {
      "displayName": "위시온",
      "photoUrl": "https://lh3.googleusercontent.com/a/default-user=s64",
      "userId": "16033311869056429513"
     },
     "user_tz": -540
    },
    "id": "p162eY3lBlOl"
   },
   "outputs": [],
   "source": [
    "cleaned_words = [w for w in word_tokens if w.lower() not in stop_words]"
   ]
  },
  {
   "cell_type": "code",
   "execution_count": 108,
   "metadata": {
    "colab": {
     "base_uri": "https://localhost:8080/"
    },
    "executionInfo": {
     "elapsed": 677,
     "status": "ok",
     "timestamp": 1635678322679,
     "user": {
      "displayName": "위시온",
      "photoUrl": "https://lh3.googleusercontent.com/a/default-user=s64",
      "userId": "16033311869056429513"
     },
     "user_tz": -540
    },
    "id": "By0qzeJlBneq",
    "outputId": "d00d4fde-d6a9-406a-de86-3fcb9db81282"
   },
   "outputs": [
    {
     "name": "stdout",
     "output_type": "stream",
     "text": [
      "['Family', 'is', 'not', 'an', 'important', 'thing', '.', 'It', '`', 's', 'everything', '.']\n",
      "['Family', 'important', 'thing', '.', '`', 'everything', '.']\n"
     ]
    }
   ],
   "source": [
    "print(word_tokens)\n",
    "print(cleaned_words)"
   ]
  },
  {
   "cell_type": "markdown",
   "metadata": {
    "id": "uE9BBTbYBpVH"
   },
   "source": [
    "문제 2"
   ]
  },
  {
   "cell_type": "code",
   "execution_count": 109,
   "metadata": {
    "executionInfo": {
     "elapsed": 231,
     "status": "ok",
     "timestamp": 1635678364266,
     "user": {
      "displayName": "위시온",
      "photoUrl": "https://lh3.googleusercontent.com/a/default-user=s64",
      "userId": "16033311869056429513"
     },
     "user_tz": -540
    },
    "id": "xfbMD0uCBsk0"
   },
   "outputs": [],
   "source": [
    "import nltk"
   ]
  },
  {
   "cell_type": "code",
   "execution_count": 110,
   "metadata": {
    "executionInfo": {
     "elapsed": 236,
     "status": "ok",
     "timestamp": 1635678375960,
     "user": {
      "displayName": "위시온",
      "photoUrl": "https://lh3.googleusercontent.com/a/default-user=s64",
      "userId": "16033311869056429513"
     },
     "user_tz": -540
    },
    "id": "uhko2QZ-Byqy"
   },
   "outputs": [],
   "source": [
    "from nltk import PorterStemmer, WordNetLemmatizer"
   ]
  },
  {
   "cell_type": "code",
   "execution_count": 111,
   "metadata": {
    "colab": {
     "base_uri": "https://localhost:8080/"
    },
    "executionInfo": {
     "elapsed": 595,
     "status": "ok",
     "timestamp": 1635678380124,
     "user": {
      "displayName": "위시온",
      "photoUrl": "https://lh3.googleusercontent.com/a/default-user=s64",
      "userId": "16033311869056429513"
     },
     "user_tz": -540
    },
    "id": "cjO0AAUtBz6A",
    "outputId": "ec34699f-e10a-4a05-f2a8-5dee0c0b9519"
   },
   "outputs": [
    {
     "name": "stdout",
     "output_type": "stream",
     "text": [
      "[nltk_data] Downloading package wordnet to /root/nltk_data...\n",
      "[nltk_data]   Unzipping corpora/wordnet.zip.\n"
     ]
    },
    {
     "data": {
      "text/plain": [
       "True"
      ]
     },
     "execution_count": 111,
     "metadata": {},
     "output_type": "execute_result"
    }
   ],
   "source": [
    "nltk.download('wordnet')"
   ]
  },
  {
   "cell_type": "code",
   "execution_count": 112,
   "metadata": {
    "executionInfo": {
     "elapsed": 243,
     "status": "ok",
     "timestamp": 1635678385011,
     "user": {
      "displayName": "위시온",
      "photoUrl": "https://lh3.googleusercontent.com/a/default-user=s64",
      "userId": "16033311869056429513"
     },
     "user_tz": -540
    },
    "id": "-rcFOZT6Bzx4"
   },
   "outputs": [],
   "source": [
    "words = ['policy', 'doing', 'organization', 'have', 'going', 'love', 'lives',\n",
    "         'fly', 'dies', 'watched', 'has', 'starting']"
   ]
  },
  {
   "cell_type": "code",
   "execution_count": 113,
   "metadata": {
    "executionInfo": {
     "elapsed": 232,
     "status": "ok",
     "timestamp": 1635678390327,
     "user": {
      "displayName": "위시온",
      "photoUrl": "https://lh3.googleusercontent.com/a/default-user=s64",
      "userId": "16033311869056429513"
     },
     "user_tz": -540
    },
    "id": "NAFo4WQWBzqp"
   },
   "outputs": [],
   "source": [
    "stemmer = PorterStemmer()\n",
    "stems = [stemmer.stem(t) for t in words]"
   ]
  },
  {
   "cell_type": "code",
   "execution_count": 114,
   "metadata": {
    "executionInfo": {
     "elapsed": 2230,
     "status": "ok",
     "timestamp": 1635678397720,
     "user": {
      "displayName": "위시온",
      "photoUrl": "https://lh3.googleusercontent.com/a/default-user=s64",
      "userId": "16033311869056429513"
     },
     "user_tz": -540
    },
    "id": "NeJiuZp3BzjP"
   },
   "outputs": [],
   "source": [
    "lemmatizer = WordNetLemmatizer()\n",
    "lemmas = [lemmatizer.lemmatize(t) for t in words]"
   ]
  },
  {
   "cell_type": "code",
   "execution_count": 115,
   "metadata": {
    "colab": {
     "base_uri": "https://localhost:8080/"
    },
    "executionInfo": {
     "elapsed": 247,
     "status": "ok",
     "timestamp": 1635678400931,
     "user": {
      "displayName": "위시온",
      "photoUrl": "https://lh3.googleusercontent.com/a/default-user=s64",
      "userId": "16033311869056429513"
     },
     "user_tz": -540
    },
    "id": "rLRDiIHUBzGj",
    "outputId": "6799a551-cd40-4800-c740-20320e3296af"
   },
   "outputs": [
    {
     "name": "stdout",
     "output_type": "stream",
     "text": [
      "['polici', 'do', 'organ', 'have', 'go', 'love', 'live', 'fli', 'die', 'watch', 'ha', 'start']\n",
      "['policy', 'doing', 'organization', 'have', 'going', 'love', 'life', 'fly', 'dy', 'watched', 'ha', 'starting']\n"
     ]
    }
   ],
   "source": [
    "print(stems)\n",
    "print(lemmas)"
   ]
  },
  {
   "cell_type": "markdown",
   "metadata": {
    "id": "cVPwH3FCB9ty"
   },
   "source": [
    "문제 3"
   ]
  },
  {
   "cell_type": "code",
   "execution_count": 116,
   "metadata": {
    "executionInfo": {
     "elapsed": 237,
     "status": "ok",
     "timestamp": 1635678435100,
     "user": {
      "displayName": "위시온",
      "photoUrl": "https://lh3.googleusercontent.com/a/default-user=s64",
      "userId": "16033311869056429513"
     },
     "user_tz": -540
    },
    "id": "0G8XzWIfB-8G"
   },
   "outputs": [],
   "source": [
    "import nltk"
   ]
  },
  {
   "cell_type": "code",
   "execution_count": 117,
   "metadata": {
    "executionInfo": {
     "elapsed": 254,
     "status": "ok",
     "timestamp": 1635678440545,
     "user": {
      "displayName": "위시온",
      "photoUrl": "https://lh3.googleusercontent.com/a/default-user=s64",
      "userId": "16033311869056429513"
     },
     "user_tz": -540
    },
    "id": "DMBpid3cB_ux"
   },
   "outputs": [],
   "source": [
    "from nltk import word_tokenize"
   ]
  },
  {
   "cell_type": "code",
   "execution_count": 118,
   "metadata": {
    "colab": {
     "base_uri": "https://localhost:8080/"
    },
    "executionInfo": {
     "elapsed": 291,
     "status": "ok",
     "timestamp": 1635678446399,
     "user": {
      "displayName": "위시온",
      "photoUrl": "https://lh3.googleusercontent.com/a/default-user=s64",
      "userId": "16033311869056429513"
     },
     "user_tz": -540
    },
    "id": "6LoLjl65B_ri",
    "outputId": "fb3f6ed6-b86f-4f92-b043-54def323f699"
   },
   "outputs": [
    {
     "name": "stdout",
     "output_type": "stream",
     "text": [
      "[nltk_data] Downloading package punkt to /root/nltk_data...\n",
      "[nltk_data]   Package punkt is already up-to-date!\n",
      "[nltk_data] Downloading package averaged_perceptron_tagger to\n",
      "[nltk_data]     /root/nltk_data...\n",
      "[nltk_data]   Package averaged_perceptron_tagger is already up-to-\n",
      "[nltk_data]       date!\n"
     ]
    },
    {
     "data": {
      "text/plain": [
       "True"
      ]
     },
     "execution_count": 118,
     "metadata": {},
     "output_type": "execute_result"
    }
   ],
   "source": [
    "nltk.download('punkt')\n",
    "nltk.download('averaged_perceptron_tagger')"
   ]
  },
  {
   "cell_type": "code",
   "execution_count": 119,
   "metadata": {
    "executionInfo": {
     "elapsed": 251,
     "status": "ok",
     "timestamp": 1635678451949,
     "user": {
      "displayName": "위시온",
      "photoUrl": "https://lh3.googleusercontent.com/a/default-user=s64",
      "userId": "16033311869056429513"
     },
     "user_tz": -540
    },
    "id": "lEy1Jz8DB_oF"
   },
   "outputs": [],
   "source": [
    "quote = \"\"\"\n",
    "... If you wish to make an apple pie from scratch,\n",
    "... you must first invent the universe.\"\"\""
   ]
  },
  {
   "cell_type": "code",
   "execution_count": 120,
   "metadata": {
    "executionInfo": {
     "elapsed": 225,
     "status": "ok",
     "timestamp": 1635678458195,
     "user": {
      "displayName": "위시온",
      "photoUrl": "https://lh3.googleusercontent.com/a/default-user=s64",
      "userId": "16033311869056429513"
     },
     "user_tz": -540
    },
    "id": "k0DxpLmnCIGz"
   },
   "outputs": [],
   "source": [
    "words_quote = word_tokenize(quote)"
   ]
  },
  {
   "cell_type": "code",
   "execution_count": 121,
   "metadata": {
    "executionInfo": {
     "elapsed": 223,
     "status": "ok",
     "timestamp": 1635678461391,
     "user": {
      "displayName": "위시온",
      "photoUrl": "https://lh3.googleusercontent.com/a/default-user=s64",
      "userId": "16033311869056429513"
     },
     "user_tz": -540
    },
    "id": "jw_Bi4u1CH_E"
   },
   "outputs": [],
   "source": [
    "tags = nltk.pos_tag(words_quote)"
   ]
  },
  {
   "cell_type": "code",
   "execution_count": 122,
   "metadata": {
    "colab": {
     "base_uri": "https://localhost:8080/"
    },
    "executionInfo": {
     "elapsed": 3,
     "status": "ok",
     "timestamp": 1635678464894,
     "user": {
      "displayName": "위시온",
      "photoUrl": "https://lh3.googleusercontent.com/a/default-user=s64",
      "userId": "16033311869056429513"
     },
     "user_tz": -540
    },
    "id": "ntcLu_D0B_j1",
    "outputId": "b8e5ef2f-29a2-4a9c-c9c5-f82fda92ed0e"
   },
   "outputs": [
    {
     "name": "stdout",
     "output_type": "stream",
     "text": [
      "['If', 'you', 'wish', 'to', 'make', 'an', 'apple', 'pie', 'from', 'scratch', ',', 'you', 'must', 'first', 'invent', 'the', 'universe', '.']\n",
      "[('If', 'IN'), ('you', 'PRP'), ('wish', 'VBP'), ('to', 'TO'), ('make', 'VB'), ('an', 'DT'), ('apple', 'NN'), ('pie', 'NN'), ('from', 'IN'), ('scratch', 'NN'), (',', ','), ('you', 'PRP'), ('must', 'MD'), ('first', 'VB'), ('invent', 'VB'), ('the', 'DT'), ('universe', 'NN'), ('.', '.')]\n"
     ]
    }
   ],
   "source": [
    "print(words_quote)\n",
    "print(tags)"
   ]
  },
  {
   "cell_type": "markdown",
   "metadata": {
    "id": "URh9Axifuvwv"
   },
   "source": [
    "문제 4"
   ]
  },
  {
   "cell_type": "code",
   "execution_count": null,
   "metadata": {
    "id": "1bzUGXBW9fws"
   },
   "outputs": [],
   "source": [
    "import nltk"
   ]
  },
  {
   "cell_type": "code",
   "execution_count": null,
   "metadata": {
    "id": "y7ashmCq9htF"
   },
   "outputs": [],
   "source": [
    "from nltk import word_tokenize\n",
    "from IPython.display import display"
   ]
  },
  {
   "cell_type": "code",
   "execution_count": null,
   "metadata": {
    "colab": {
     "base_uri": "https://localhost:8080/"
    },
    "executionInfo": {
     "elapsed": 7807,
     "status": "ok",
     "timestamp": 1635672850760,
     "user": {
      "displayName": "위시온",
      "photoUrl": "https://lh3.googleusercontent.com/a/default-user=s64",
      "userId": "16033311869056429513"
     },
     "user_tz": -540
    },
    "id": "hzUjzj8Wstvm",
    "outputId": "6294c7df-1c90-4f11-835a-0686922c4728"
   },
   "outputs": [
    {
     "name": "stdout",
     "output_type": "stream",
     "text": [
      "Reading package lists... Done\n",
      "Building dependency tree       \n",
      "Reading state information... Done\n",
      "The following package was automatically installed and is no longer required:\n",
      "  libnvidia-common-460\n",
      "Use 'apt autoremove' to remove it.\n",
      "The following NEW packages will be installed:\n",
      "  xvfb\n",
      "0 upgraded, 1 newly installed, 0 to remove and 37 not upgraded.\n",
      "Need to get 784 kB of archives.\n",
      "After this operation, 2,270 kB of additional disk space will be used.\n",
      "Get:1 http://archive.ubuntu.com/ubuntu bionic-updates/universe amd64 xvfb amd64 2:1.19.6-1ubuntu4.9 [784 kB]\n",
      "Fetched 784 kB in 1s (852 kB/s)\n",
      "Selecting previously unselected package xvfb.\n",
      "(Reading database ... 155062 files and directories currently installed.)\n",
      "Preparing to unpack .../xvfb_2%3a1.19.6-1ubuntu4.9_amd64.deb ...\n",
      "Unpacking xvfb (2:1.19.6-1ubuntu4.9) ...\n",
      "Setting up xvfb (2:1.19.6-1ubuntu4.9) ...\n",
      "Processing triggers for man-db (2.8.3-2ubuntu0.1) ...\n"
     ]
    }
   ],
   "source": [
    "!apt-get install -y xvfb \n",
    "import os\n",
    "os.system('Xvfb :1 -screen 0 1600x1200x16  &')  \n",
    "os.environ['DISPLAY']=':1.0'"
   ]
  },
  {
   "cell_type": "code",
   "execution_count": null,
   "metadata": {
    "colab": {
     "base_uri": "https://localhost:8080/"
    },
    "executionInfo": {
     "elapsed": 15690,
     "status": "ok",
     "timestamp": 1635673160132,
     "user": {
      "displayName": "위시온",
      "photoUrl": "https://lh3.googleusercontent.com/a/default-user=s64",
      "userId": "16033311869056429513"
     },
     "user_tz": -540
    },
    "id": "usvDWfemt3Yj",
    "outputId": "55408bb1-e7a3-4866-c57a-d116c4df13fc"
   },
   "outputs": [
    {
     "name": "stdout",
     "output_type": "stream",
     "text": [
      "Reading package lists... Done\n",
      "Building dependency tree       \n",
      "Reading state information... Done\n",
      "python3-tk is already the newest version (3.6.9-1~18.04).\n",
      "The following package was automatically installed and is no longer required:\n",
      "  libnvidia-common-460\n",
      "Use 'apt autoremove' to remove it.\n",
      "The following additional packages will be installed:\n",
      "  fonts-droid-fallback fonts-noto-mono gsfonts libcupsfilters1 libcupsimage2\n",
      "  libgs9 libgs9-common libijs-0.35 libjbig2dec0 poppler-data\n",
      "Suggested packages:\n",
      "  fonts-noto ghostscript-x poppler-utils fonts-japanese-mincho\n",
      "  | fonts-ipafont-mincho fonts-japanese-gothic | fonts-ipafont-gothic\n",
      "  fonts-arphic-ukai fonts-arphic-uming fonts-nanum\n",
      "The following NEW packages will be installed:\n",
      "  fonts-droid-fallback fonts-noto-mono ghostscript gsfonts libcupsfilters1\n",
      "  libcupsimage2 libgs9 libgs9-common libijs-0.35 libjbig2dec0 poppler-data\n",
      "0 upgraded, 11 newly installed, 0 to remove and 37 not upgraded.\n",
      "Need to get 14.1 MB of archives.\n",
      "After this operation, 49.9 MB of additional disk space will be used.\n",
      "Get:1 http://archive.ubuntu.com/ubuntu bionic/main amd64 fonts-droid-fallback all 1:6.0.1r16-1.1 [1,805 kB]\n",
      "Get:2 http://archive.ubuntu.com/ubuntu bionic/main amd64 poppler-data all 0.4.8-2 [1,479 kB]\n",
      "Get:3 http://archive.ubuntu.com/ubuntu bionic/main amd64 fonts-noto-mono all 20171026-2 [75.5 kB]\n",
      "Get:4 http://archive.ubuntu.com/ubuntu bionic-updates/main amd64 libcupsimage2 amd64 2.2.7-1ubuntu2.8 [18.6 kB]\n",
      "Get:5 http://archive.ubuntu.com/ubuntu bionic/main amd64 libijs-0.35 amd64 0.35-13 [15.5 kB]\n",
      "Get:6 http://archive.ubuntu.com/ubuntu bionic/main amd64 libjbig2dec0 amd64 0.13-6 [55.9 kB]\n",
      "Get:7 http://archive.ubuntu.com/ubuntu bionic-updates/main amd64 libgs9-common all 9.26~dfsg+0-0ubuntu0.18.04.14 [5,092 kB]\n",
      "Get:8 http://archive.ubuntu.com/ubuntu bionic-updates/main amd64 libgs9 amd64 9.26~dfsg+0-0ubuntu0.18.04.14 [2,265 kB]\n",
      "Get:9 http://archive.ubuntu.com/ubuntu bionic-updates/main amd64 ghostscript amd64 9.26~dfsg+0-0ubuntu0.18.04.14 [51.3 kB]\n",
      "Get:10 http://archive.ubuntu.com/ubuntu bionic/main amd64 gsfonts all 1:8.11+urwcyr1.0.7~pre44-4.4 [3,120 kB]\n",
      "Get:11 http://archive.ubuntu.com/ubuntu bionic-updates/main amd64 libcupsfilters1 amd64 1.20.2-0ubuntu3.1 [108 kB]\n",
      "Fetched 14.1 MB in 2s (8,666 kB/s)\n",
      "Selecting previously unselected package fonts-droid-fallback.\n",
      "(Reading database ... 155069 files and directories currently installed.)\n",
      "Preparing to unpack .../00-fonts-droid-fallback_1%3a6.0.1r16-1.1_all.deb ...\n",
      "Unpacking fonts-droid-fallback (1:6.0.1r16-1.1) ...\n",
      "Selecting previously unselected package poppler-data.\n",
      "Preparing to unpack .../01-poppler-data_0.4.8-2_all.deb ...\n",
      "Unpacking poppler-data (0.4.8-2) ...\n",
      "Selecting previously unselected package fonts-noto-mono.\n",
      "Preparing to unpack .../02-fonts-noto-mono_20171026-2_all.deb ...\n",
      "Unpacking fonts-noto-mono (20171026-2) ...\n",
      "Selecting previously unselected package libcupsimage2:amd64.\n",
      "Preparing to unpack .../03-libcupsimage2_2.2.7-1ubuntu2.8_amd64.deb ...\n",
      "Unpacking libcupsimage2:amd64 (2.2.7-1ubuntu2.8) ...\n",
      "Selecting previously unselected package libijs-0.35:amd64.\n",
      "Preparing to unpack .../04-libijs-0.35_0.35-13_amd64.deb ...\n",
      "Unpacking libijs-0.35:amd64 (0.35-13) ...\n",
      "Selecting previously unselected package libjbig2dec0:amd64.\n",
      "Preparing to unpack .../05-libjbig2dec0_0.13-6_amd64.deb ...\n",
      "Unpacking libjbig2dec0:amd64 (0.13-6) ...\n",
      "Selecting previously unselected package libgs9-common.\n",
      "Preparing to unpack .../06-libgs9-common_9.26~dfsg+0-0ubuntu0.18.04.14_all.deb ...\n",
      "Unpacking libgs9-common (9.26~dfsg+0-0ubuntu0.18.04.14) ...\n",
      "Selecting previously unselected package libgs9:amd64.\n",
      "Preparing to unpack .../07-libgs9_9.26~dfsg+0-0ubuntu0.18.04.14_amd64.deb ...\n",
      "Unpacking libgs9:amd64 (9.26~dfsg+0-0ubuntu0.18.04.14) ...\n",
      "Selecting previously unselected package ghostscript.\n",
      "Preparing to unpack .../08-ghostscript_9.26~dfsg+0-0ubuntu0.18.04.14_amd64.deb ...\n",
      "Unpacking ghostscript (9.26~dfsg+0-0ubuntu0.18.04.14) ...\n",
      "Selecting previously unselected package gsfonts.\n",
      "Preparing to unpack .../09-gsfonts_1%3a8.11+urwcyr1.0.7~pre44-4.4_all.deb ...\n",
      "Unpacking gsfonts (1:8.11+urwcyr1.0.7~pre44-4.4) ...\n",
      "Selecting previously unselected package libcupsfilters1:amd64.\n",
      "Preparing to unpack .../10-libcupsfilters1_1.20.2-0ubuntu3.1_amd64.deb ...\n",
      "Unpacking libcupsfilters1:amd64 (1.20.2-0ubuntu3.1) ...\n",
      "Setting up libgs9-common (9.26~dfsg+0-0ubuntu0.18.04.14) ...\n",
      "Setting up fonts-droid-fallback (1:6.0.1r16-1.1) ...\n",
      "Setting up gsfonts (1:8.11+urwcyr1.0.7~pre44-4.4) ...\n",
      "Setting up poppler-data (0.4.8-2) ...\n",
      "Setting up fonts-noto-mono (20171026-2) ...\n",
      "Setting up libcupsfilters1:amd64 (1.20.2-0ubuntu3.1) ...\n",
      "Setting up libcupsimage2:amd64 (2.2.7-1ubuntu2.8) ...\n",
      "Setting up libjbig2dec0:amd64 (0.13-6) ...\n",
      "Setting up libijs-0.35:amd64 (0.35-13) ...\n",
      "Setting up libgs9:amd64 (9.26~dfsg+0-0ubuntu0.18.04.14) ...\n",
      "Setting up ghostscript (9.26~dfsg+0-0ubuntu0.18.04.14) ...\n",
      "Processing triggers for man-db (2.8.3-2ubuntu0.1) ...\n",
      "Processing triggers for fontconfig (2.12.6-0ubuntu2) ...\n",
      "Processing triggers for libc-bin (2.27-3ubuntu1.3) ...\n",
      "/sbin/ldconfig.real: /usr/local/lib/python3.7/dist-packages/ideep4py/lib/libmkldnn.so.0 is not a symbolic link\n",
      "\n"
     ]
    }
   ],
   "source": [
    "%matplotlib inline\n",
    "!apt install ghostscript python3-tk"
   ]
  },
  {
   "cell_type": "code",
   "execution_count": null,
   "metadata": {
    "colab": {
     "base_uri": "https://localhost:8080/"
    },
    "executionInfo": {
     "elapsed": 942,
     "status": "ok",
     "timestamp": 1635671639529,
     "user": {
      "displayName": "위시온",
      "photoUrl": "https://lh3.googleusercontent.com/a/default-user=s64",
      "userId": "16033311869056429513"
     },
     "user_tz": -540
    },
    "id": "g8ypV-8d9miB",
    "outputId": "8ee9728b-d1f0-4617-f6f6-42d5e4fa55f9"
   },
   "outputs": [
    {
     "name": "stdout",
     "output_type": "stream",
     "text": [
      "[nltk_data] Downloading package punkt to /root/nltk_data...\n",
      "[nltk_data]   Unzipping tokenizers/punkt.zip.\n",
      "[nltk_data] Downloading package averaged_perceptron_tagger to\n",
      "[nltk_data]     /root/nltk_data...\n",
      "[nltk_data]   Unzipping taggers/averaged_perceptron_tagger.zip.\n"
     ]
    },
    {
     "data": {
      "text/plain": [
       "True"
      ]
     },
     "execution_count": 3,
     "metadata": {},
     "output_type": "execute_result"
    }
   ],
   "source": [
    "nltk.download('punkt')\n",
    "nltk.download('averaged_perceptron_tagger')"
   ]
  },
  {
   "cell_type": "code",
   "execution_count": null,
   "metadata": {
    "id": "Qt9xHMjM9XiZ"
   },
   "outputs": [],
   "source": [
    "quote = \"the little yellow dog barked at the cat.\""
   ]
  },
  {
   "cell_type": "code",
   "execution_count": null,
   "metadata": {
    "id": "baH-boZU9orA"
   },
   "outputs": [],
   "source": [
    "words_quote = word_tokenize(quote)"
   ]
  },
  {
   "cell_type": "code",
   "execution_count": null,
   "metadata": {
    "colab": {
     "base_uri": "https://localhost:8080/"
    },
    "executionInfo": {
     "elapsed": 357,
     "status": "ok",
     "timestamp": 1635671644981,
     "user": {
      "displayName": "위시온",
      "photoUrl": "https://lh3.googleusercontent.com/a/default-user=s64",
      "userId": "16033311869056429513"
     },
     "user_tz": -540
    },
    "id": "-E0SAwKS9yPz",
    "outputId": "9758ce07-9fdc-4268-8bea-6c8cba46ac0d"
   },
   "outputs": [
    {
     "name": "stdout",
     "output_type": "stream",
     "text": [
      "[('the', 'DT'), ('little', 'JJ'), ('yellow', 'JJ'), ('dog', 'NN'), ('barked', 'VBD'), ('at', 'IN'), ('the', 'DT'), ('cat', 'NN'), ('.', '.')]\n"
     ]
    }
   ],
   "source": [
    "pos_tags = nltk.pos_tag(words_quote)\n",
    "print(pos_tags)"
   ]
  },
  {
   "cell_type": "code",
   "execution_count": null,
   "metadata": {
    "id": "hACUQfVr94L6"
   },
   "outputs": [],
   "source": [
    "grammar = '\\n'.join([\n",
    "                     'NP: {<DT>?<JJ>*<NN>}'\n",
    "])"
   ]
  },
  {
   "cell_type": "code",
   "execution_count": null,
   "metadata": {
    "id": "oLZR0R7U4dRj"
   },
   "outputs": [],
   "source": [
    "chunk_parser = nltk.RegexpParser(grammar)"
   ]
  },
  {
   "cell_type": "code",
   "execution_count": null,
   "metadata": {
    "colab": {
     "base_uri": "https://localhost:8080/"
    },
    "executionInfo": {
     "elapsed": 11,
     "status": "ok",
     "timestamp": 1635673290240,
     "user": {
      "displayName": "위시온",
      "photoUrl": "https://lh3.googleusercontent.com/a/default-user=s64",
      "userId": "16033311869056429513"
     },
     "user_tz": -540
    },
    "id": "fUhOQmqpoOKc",
    "outputId": "1f946920-2b08-4e37-ce6d-27a9fcd5ab20"
   },
   "outputs": [
    {
     "name": "stdout",
     "output_type": "stream",
     "text": [
      "(S\n",
      "  (NP the/DT little/JJ yellow/JJ dog/NN)\n",
      "  barked/VBD\n",
      "  at/IN\n",
      "  (NP the/DT cat/NN)\n",
      "  ./.)\n"
     ]
    }
   ],
   "source": [
    "tree = chunk_parser.parse(pos_tags)\n",
    "print(tree)"
   ]
  },
  {
   "cell_type": "code",
   "execution_count": null,
   "metadata": {
    "colab": {
     "base_uri": "https://localhost:8080/",
     "height": 108
    },
    "executionInfo": {
     "elapsed": 248,
     "status": "ok",
     "timestamp": 1635673294354,
     "user": {
      "displayName": "위시온",
      "photoUrl": "https://lh3.googleusercontent.com/a/default-user=s64",
      "userId": "16033311869056429513"
     },
     "user_tz": -540
    },
    "id": "MZG0ZEgjotsC",
    "outputId": "52e426b7-a6bf-4c06-e1f1-82bcbc98a16d"
   },
   "outputs": [
    {
     "data": {
      "image/png": "[encoded data removed]",
      "text/plain": [
       "Tree('S', [Tree('NP', [('the', 'DT'), ('little', 'JJ'), ('yellow', 'JJ'), ('dog', 'NN')]), ('barked', 'VBD'), ('at', 'IN'), Tree('NP', [('the', 'DT'), ('cat', 'NN')]), ('.', '.')])"
      ]
     },
     "metadata": {},
     "output_type": "display_data"
    }
   ],
   "source": [
    "display(tree)"
   ]
  },
  {
   "cell_type": "code",
   "execution_count": null,
   "metadata": {
    "id": "gHCg5n8cskeS"
   },
   "outputs": [],
   "source": []
  },
  {
   "cell_type": "markdown",
   "metadata": {
    "id": "EfOhv5eOu3NI"
   },
   "source": [
    "문제 5"
   ]
  },
  {
   "cell_type": "code",
   "execution_count": null,
   "metadata": {
    "id": "0RxjyunGu5Sp"
   },
   "outputs": [],
   "source": [
    "import nltk"
   ]
  },
  {
   "cell_type": "code",
   "execution_count": null,
   "metadata": {
    "id": "2gM0SEzxu_Qr"
   },
   "outputs": [],
   "source": [
    "from nltk import word_tokenize\n",
    "from IPython.display import display"
   ]
  },
  {
   "cell_type": "code",
   "execution_count": null,
   "metadata": {
    "colab": {
     "base_uri": "https://localhost:8080/"
    },
    "executionInfo": {
     "elapsed": 1927,
     "status": "ok",
     "timestamp": 1635673470484,
     "user": {
      "displayName": "위시온",
      "photoUrl": "https://lh3.googleusercontent.com/a/default-user=s64",
      "userId": "16033311869056429513"
     },
     "user_tz": -540
    },
    "id": "nkzCvBHZvEue",
    "outputId": "f9a0628d-8fe8-4304-96c7-3e9c8724eb43"
   },
   "outputs": [
    {
     "name": "stdout",
     "output_type": "stream",
     "text": [
      "Reading package lists... Done\n",
      "Building dependency tree       \n",
      "Reading state information... Done\n",
      "xvfb is already the newest version (2:1.19.6-1ubuntu4.9).\n",
      "The following package was automatically installed and is no longer required:\n",
      "  libnvidia-common-460\n",
      "Use 'apt autoremove' to remove it.\n",
      "0 upgraded, 0 newly installed, 0 to remove and 37 not upgraded.\n"
     ]
    }
   ],
   "source": [
    "!apt-get install -y xvfb \n",
    "import os\n",
    "os.system('Xvfb :1 -screen 0 1600x1200x16  &')  \n",
    "os.environ['DISPLAY']=':1.0'"
   ]
  },
  {
   "cell_type": "code",
   "execution_count": null,
   "metadata": {
    "colab": {
     "base_uri": "https://localhost:8080/"
    },
    "executionInfo": {
     "elapsed": 2022,
     "status": "ok",
     "timestamp": 1635673485054,
     "user": {
      "displayName": "위시온",
      "photoUrl": "https://lh3.googleusercontent.com/a/default-user=s64",
      "userId": "16033311869056429513"
     },
     "user_tz": -540
    },
    "id": "VNaaD5WRvG08",
    "outputId": "68f711cc-7182-47f2-a724-4864e35dcf71"
   },
   "outputs": [
    {
     "name": "stdout",
     "output_type": "stream",
     "text": [
      "Reading package lists... Done\n",
      "Building dependency tree       \n",
      "Reading state information... Done\n",
      "ghostscript is already the newest version (9.26~dfsg+0-0ubuntu0.18.04.14).\n",
      "python3-tk is already the newest version (3.6.9-1~18.04).\n",
      "The following package was automatically installed and is no longer required:\n",
      "  libnvidia-common-460\n",
      "Use 'apt autoremove' to remove it.\n",
      "0 upgraded, 0 newly installed, 0 to remove and 37 not upgraded.\n"
     ]
    }
   ],
   "source": [
    "%matplotlib inline\n",
    "!apt install ghostscript python3-tk"
   ]
  },
  {
   "cell_type": "code",
   "execution_count": null,
   "metadata": {
    "id": "8xnwoi6BvKW4"
   },
   "outputs": [],
   "source": [
    "sentence = 'Deemed universities charge huge fees'"
   ]
  },
  {
   "cell_type": "code",
   "execution_count": null,
   "metadata": {
    "id": "9JH3D0eqvQ_E"
   },
   "outputs": [],
   "source": [
    "tokens = word_tokenize(sentence)"
   ]
  },
  {
   "cell_type": "code",
   "execution_count": null,
   "metadata": {
    "id": "zjMqTPj6va-I"
   },
   "outputs": [],
   "source": [
    "grammar = nltk.grammar.DependencyGrammar.fromstring(\"\"\"\n",
    "'universities' -> 'Deemed'\n",
    "'charge' -> 'universities'\n",
    "'fees' -> 'huge'\n",
    "'charge' -> 'fees'\n",
    "\"\"\")"
   ]
  },
  {
   "cell_type": "code",
   "execution_count": null,
   "metadata": {
    "id": "7yp7w8v_xk65"
   },
   "outputs": [],
   "source": [
    "dp = nltk.parse.ProjectiveDependencyParser(grammar)"
   ]
  },
  {
   "cell_type": "code",
   "execution_count": 143,
   "metadata": {
    "colab": {
     "base_uri": "https://localhost:8080/"
    },
    "executionInfo": {
     "elapsed": 252,
     "status": "ok",
     "timestamp": 1635680462558,
     "user": {
      "displayName": "위시온",
      "photoUrl": "https://lh3.googleusercontent.com/a/default-user=s64",
      "userId": "16033311869056429513"
     },
     "user_tz": -540
    },
    "id": "WkOS_PKaxuRy",
    "outputId": "9fce5c44-a9a1-4b4d-95ca-cfe9e04ca1f0"
   },
   "outputs": [
    {
     "name": "stdout",
     "output_type": "stream",
     "text": [
      "(charge (universities Deemed) (fees huge))\n"
     ]
    }
   ],
   "source": [
    "ps = ()\n",
    "for ps in sorted(dp.parse(tokens)):\n",
    "  print(ps)"
   ]
  },
  {
   "cell_type": "code",
   "execution_count": 144,
   "metadata": {
    "colab": {
     "base_uri": "https://localhost:8080/",
     "height": 122
    },
    "executionInfo": {
     "elapsed": 385,
     "status": "ok",
     "timestamp": 1635680464009,
     "user": {
      "displayName": "위시온",
      "photoUrl": "https://lh3.googleusercontent.com/a/default-user=s64",
      "userId": "16033311869056429513"
     },
     "user_tz": -540
    },
    "id": "Qu9AIDOfx6lg",
    "outputId": "07ea3313-6151-4102-dd3e-bce507da6de4"
   },
   "outputs": [
    {
     "data": {
      "image/png": "[encoded data removed]",
      "text/plain": [
       "Tree('charge', [Tree('universities', ['Deemed']), Tree('fees', ['huge'])])"
      ]
     },
     "metadata": {},
     "output_type": "display_data"
    }
   ],
   "source": [
    "display(ps)"
   ]
  },
  {
   "cell_type": "code",
   "execution_count": null,
   "metadata": {
    "id": "dlApFo2Wx95W"
   },
   "outputs": [],
   "source": [
    "import spacy\n",
    "from spacy import displacy"
   ]
  },
  {
   "cell_type": "code",
   "execution_count": 87,
   "metadata": {
    "executionInfo": {
     "elapsed": 872,
     "status": "ok",
     "timestamp": 1635676880178,
     "user": {
      "displayName": "위시온",
      "photoUrl": "https://lh3.googleusercontent.com/a/default-user=s64",
      "userId": "16033311869056429513"
     },
     "user_tz": -540
    },
    "id": "JxSibgTp0XN7"
   },
   "outputs": [],
   "source": [
    "tag = spacy.load('en_core_web_sm')\n",
    "doc = tag('I was heading towards North.')"
   ]
  },
  {
   "cell_type": "code",
   "execution_count": 91,
   "metadata": {
    "colab": {
     "base_uri": "https://localhost:8080/",
     "height": 332
    },
    "executionInfo": {
     "elapsed": 248,
     "status": "ok",
     "timestamp": 1635677097677,
     "user": {
      "displayName": "위시온",
      "photoUrl": "https://lh3.googleusercontent.com/a/default-user=s64",
      "userId": "16033311869056429513"
     },
     "user_tz": -540
    },
    "id": "lpHYrzXG1E9o",
    "outputId": "835dcb27-398d-428f-83d2-cbcc01380c15"
   },
   "outputs": [
    {
     "data": {
      "text/html": [
       "<span class=\"tex2jax_ignore\"><svg xmlns=\"http://www.w3.org/2000/svg\" xmlns:xlink=\"http://www.w3.org/1999/xlink\" xml:lang=\"en\" id=\"39fe24bd072a41a2850bb137cde944d6-0\" class=\"displacy\" width=\"925\" height=\"312.0\" direction=\"ltr\" style=\"max-width: none; height: 312.0px; color: #000000; background: #ffffff; font-family: Arial; direction: ltr\">\n",
       "<text class=\"displacy-token\" fill=\"currentColor\" text-anchor=\"middle\" y=\"222.0\">\n",
       "    <tspan class=\"displacy-word\" fill=\"currentColor\" x=\"50\">I</tspan>\n",
       "    <tspan class=\"displacy-tag\" dy=\"2em\" fill=\"currentColor\" x=\"50\">PRON</tspan>\n",
       "</text>\n",
       "\n",
       "<text class=\"displacy-token\" fill=\"currentColor\" text-anchor=\"middle\" y=\"222.0\">\n",
       "    <tspan class=\"displacy-word\" fill=\"currentColor\" x=\"225\">was</tspan>\n",
       "    <tspan class=\"displacy-tag\" dy=\"2em\" fill=\"currentColor\" x=\"225\">AUX</tspan>\n",
       "</text>\n",
       "\n",
       "<text class=\"displacy-token\" fill=\"currentColor\" text-anchor=\"middle\" y=\"222.0\">\n",
       "    <tspan class=\"displacy-word\" fill=\"currentColor\" x=\"400\">heading</tspan>\n",
       "    <tspan class=\"displacy-tag\" dy=\"2em\" fill=\"currentColor\" x=\"400\">VERB</tspan>\n",
       "</text>\n",
       "\n",
       "<text class=\"displacy-token\" fill=\"currentColor\" text-anchor=\"middle\" y=\"222.0\">\n",
       "    <tspan class=\"displacy-word\" fill=\"currentColor\" x=\"575\">towards</tspan>\n",
       "    <tspan class=\"displacy-tag\" dy=\"2em\" fill=\"currentColor\" x=\"575\">ADP</tspan>\n",
       "</text>\n",
       "\n",
       "<text class=\"displacy-token\" fill=\"currentColor\" text-anchor=\"middle\" y=\"222.0\">\n",
       "    <tspan class=\"displacy-word\" fill=\"currentColor\" x=\"750\">North.</tspan>\n",
       "    <tspan class=\"displacy-tag\" dy=\"2em\" fill=\"currentColor\" x=\"750\">PROPN</tspan>\n",
       "</text>\n",
       "\n",
       "<g class=\"displacy-arrow\">\n",
       "    <path class=\"displacy-arc\" id=\"arrow-39fe24bd072a41a2850bb137cde944d6-0-0\" stroke-width=\"2px\" d=\"M70,177.0 C70,2.0 400.0,2.0 400.0,177.0\" fill=\"none\" stroke=\"currentColor\"/>\n",
       "    <text dy=\"1.25em\" style=\"font-size: 0.8em; letter-spacing: 1px\">\n",
       "        <textPath xlink:href=\"#arrow-39fe24bd072a41a2850bb137cde944d6-0-0\" class=\"displacy-label\" startOffset=\"50%\" side=\"left\" fill=\"currentColor\" text-anchor=\"middle\">nsubj</textPath>\n",
       "    </text>\n",
       "    <path class=\"displacy-arrowhead\" d=\"M70,179.0 L62,167.0 78,167.0\" fill=\"currentColor\"/>\n",
       "</g>\n",
       "\n",
       "<g class=\"displacy-arrow\">\n",
       "    <path class=\"displacy-arc\" id=\"arrow-39fe24bd072a41a2850bb137cde944d6-0-1\" stroke-width=\"2px\" d=\"M245,177.0 C245,89.5 395.0,89.5 395.0,177.0\" fill=\"none\" stroke=\"currentColor\"/>\n",
       "    <text dy=\"1.25em\" style=\"font-size: 0.8em; letter-spacing: 1px\">\n",
       "        <textPath xlink:href=\"#arrow-39fe24bd072a41a2850bb137cde944d6-0-1\" class=\"displacy-label\" startOffset=\"50%\" side=\"left\" fill=\"currentColor\" text-anchor=\"middle\">aux</textPath>\n",
       "    </text>\n",
       "    <path class=\"displacy-arrowhead\" d=\"M245,179.0 L237,167.0 253,167.0\" fill=\"currentColor\"/>\n",
       "</g>\n",
       "\n",
       "<g class=\"displacy-arrow\">\n",
       "    <path class=\"displacy-arc\" id=\"arrow-39fe24bd072a41a2850bb137cde944d6-0-2\" stroke-width=\"2px\" d=\"M420,177.0 C420,89.5 570.0,89.5 570.0,177.0\" fill=\"none\" stroke=\"currentColor\"/>\n",
       "    <text dy=\"1.25em\" style=\"font-size: 0.8em; letter-spacing: 1px\">\n",
       "        <textPath xlink:href=\"#arrow-39fe24bd072a41a2850bb137cde944d6-0-2\" class=\"displacy-label\" startOffset=\"50%\" side=\"left\" fill=\"currentColor\" text-anchor=\"middle\">prep</textPath>\n",
       "    </text>\n",
       "    <path class=\"displacy-arrowhead\" d=\"M570.0,179.0 L578.0,167.0 562.0,167.0\" fill=\"currentColor\"/>\n",
       "</g>\n",
       "\n",
       "<g class=\"displacy-arrow\">\n",
       "    <path class=\"displacy-arc\" id=\"arrow-39fe24bd072a41a2850bb137cde944d6-0-3\" stroke-width=\"2px\" d=\"M595,177.0 C595,89.5 745.0,89.5 745.0,177.0\" fill=\"none\" stroke=\"currentColor\"/>\n",
       "    <text dy=\"1.25em\" style=\"font-size: 0.8em; letter-spacing: 1px\">\n",
       "        <textPath xlink:href=\"#arrow-39fe24bd072a41a2850bb137cde944d6-0-3\" class=\"displacy-label\" startOffset=\"50%\" side=\"left\" fill=\"currentColor\" text-anchor=\"middle\">pobj</textPath>\n",
       "    </text>\n",
       "    <path class=\"displacy-arrowhead\" d=\"M745.0,179.0 L753.0,167.0 737.0,167.0\" fill=\"currentColor\"/>\n",
       "</g>\n",
       "</svg></span>"
      ],
      "text/plain": [
       "<IPython.core.display.HTML object>"
      ]
     },
     "metadata": {},
     "output_type": "display_data"
    }
   ],
   "source": [
    "displacy.render(doc,style='dep',jupyter='True')"
   ]
  },
  {
   "cell_type": "code",
   "execution_count": null,
   "metadata": {
    "id": "YHFUzzvS6oFM"
   },
   "outputs": [],
   "source": []
  }
 ],
 "metadata": {
  "colab": {
   "authorship_tag": "ABX9TyPWJUqWbFvjq5J8C+Oo5wN/",
   "collapsed_sections": [],
   "name": "중간과제_20175319_위시온.ipynb",
   "provenance": []
  },
  "kernelspec": {
   "display_name": "Python 3",
   "language": "python",
   "name": "python3"
  },
  "language_info": {
   "codemirror_mode": {
    "name": "ipython",
    "version": 3
   },
   "file_extension": ".py",
   "mimetype": "text/x-python",
   "name": "python",
   "nbconvert_exporter": "python",
   "pygments_lexer": "ipython3",
   "version": "3.8.8"
  }
 },
 "nbformat": 4,
 "nbformat_minor": 1
}
