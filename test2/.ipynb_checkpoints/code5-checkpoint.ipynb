{
 "cells": [
  {
   "cell_type": "code",
   "execution_count": 1,
   "id": "21e734cc",
   "metadata": {},
   "outputs": [],
   "source": [
    "import nltk\n",
    "from nltk import word_tokenize\n",
    "from IPython.display import display"
   ]
  },
  {
   "cell_type": "code",
   "execution_count": 2,
   "id": "d93f57de",
   "metadata": {},
   "outputs": [],
   "source": [
    "sentence = 'Deemed universities charge huge fees'\n",
    "tokens = word_tokenize(sentence)"
   ]
  },
  {
   "cell_type": "code",
   "execution_count": 3,
   "id": "bec3f3e5",
   "metadata": {},
   "outputs": [],
   "source": [
    "grammar = nltk.grammar.DependencyGrammar.fromstring(\"\"\"\n",
    "'universities' -> 'Deemed'\n",
    "'charge' -> 'universities'\n",
    "'fees' -> 'huge'\n",
    "'charge' -> 'fees'\n",
    "\"\"\")"
   ]
  },
  {
   "cell_type": "code",
   "execution_count": 4,
   "id": "94d5307c",
   "metadata": {},
   "outputs": [],
   "source": [
    "dp = nltk.parse.ProjectiveDependencyParser(grammar)"
   ]
  },
  {
   "cell_type": "code",
   "execution_count": 13,
   "id": "76d07fdf",
   "metadata": {},
   "outputs": [
    {
     "name": "stdout",
     "output_type": "stream",
     "text": [
      "(charge (universities Deemed) (fees huge))\n"
     ]
    }
   ],
   "source": [
    "for ps in sorted(dp.parse(tokens)):\n",
    "  print(ps)"
   ]
  },
  {
   "cell_type": "code",
   "execution_count": 9,
   "id": "40689ca5",
   "metadata": {},
   "outputs": [],
   "source": [
    "ps.draw()"
   ]
  }
 ],
 "metadata": {
  "kernelspec": {
   "display_name": "Python 3",
   "language": "python",
   "name": "python3"
  },
  "language_info": {
   "codemirror_mode": {
    "name": "ipython",
    "version": 3
   },
   "file_extension": ".py",
   "mimetype": "text/x-python",
   "name": "python",
   "nbconvert_exporter": "python",
   "pygments_lexer": "ipython3",
   "version": "3.8.8"
  }
 },
 "nbformat": 4,
 "nbformat_minor": 5
}
