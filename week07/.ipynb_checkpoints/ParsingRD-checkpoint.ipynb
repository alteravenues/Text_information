{
 "cells": [
  {
   "cell_type": "code",
   "execution_count": 1,
   "id": "dce204ca",
   "metadata": {},
   "outputs": [],
   "source": [
    "import nltk\n",
    "from IPython.display import display"
   ]
  },
  {
   "cell_type": "code",
   "execution_count": 7,
   "id": "a2b1c634",
   "metadata": {},
   "outputs": [],
   "source": [
    "def REParserExample(grammar, textlist):\n",
    "    parser = nltk.parse.RecursiveDescentParser(grammar)\n",
    "    for text in textlist:\n",
    "        sentence = nltk.word_tokenize(text)\n",
    "        for tree in parser.parse(sentence):\n",
    "            print(tree)\n",
    "            tree.draw()"
   ]
  },
  {
   "cell_type": "code",
   "execution_count": 8,
   "id": "59a076a0",
   "metadata": {},
   "outputs": [],
   "source": [
    "grammar = nltk.CFG.fromstring(\"\"\"\n",
    "    S -> NP VP \n",
    "    NP -> NNP VBZ\n",
    "    VP -> IN NNP | DT NN IN NNP\n",
    "    NNP -> 'Tajmahal' | 'Agra' | 'Banfalore' | 'Karnataka'\n",
    "    VBZ -> 'is'\n",
    "    IN -> 'in' | 'of'\n",
    "    DT -> 'the'\n",
    "    NN -> 'capital'\n",
    "\"\"\")"
   ]
  },
  {
   "cell_type": "code",
   "execution_count": 9,
   "id": "0b835d94",
   "metadata": {},
   "outputs": [],
   "source": [
    "text = [\n",
    "    \"Tajmahal is in Agra\",\n",
    "    \"Bangalore is the capital if Garnataka\",\n",
    "]"
   ]
  },
  {
   "cell_type": "code",
   "execution_count": null,
   "id": "8ac6e7e4",
   "metadata": {},
   "outputs": [],
   "source": [
    "REParserExample(grammar, text)"
   ]
  },
  {
   "cell_type": "code",
   "execution_count": null,
   "id": "f29aeea8",
   "metadata": {},
   "outputs": [],
   "source": []
  }
 ],
 "metadata": {
  "kernelspec": {
   "display_name": "Python 3",
   "language": "python",
   "name": "python3"
  },
  "language_info": {
   "codemirror_mode": {
    "name": "ipython",
    "version": 3
   },
   "file_extension": ".py",
   "mimetype": "text/x-python",
   "name": "python",
   "nbconvert_exporter": "python",
   "pygments_lexer": "ipython3",
   "version": "3.8.8"
  }
 },
 "nbformat": 4,
 "nbformat_minor": 5
}
