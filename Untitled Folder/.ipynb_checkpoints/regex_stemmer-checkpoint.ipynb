{
 "cells": [
  {
   "cell_type": "code",
   "execution_count": 1,
   "id": "1ce0f42f",
   "metadata": {},
   "outputs": [],
   "source": [
    "import re"
   ]
  },
  {
   "cell_type": "code",
   "execution_count": 2,
   "id": "a31e4b2a",
   "metadata": {},
   "outputs": [],
   "source": [
    "def stem(word):\n",
    "    splits = re.findall(r'^(.*?)(ing|ly|ed|ious|ive|es|s|ment)?$', word)\n",
    "    stem = splits[0][0]\n",
    "    return stem"
   ]
  },
  {
   "cell_type": "code",
   "execution_count": 4,
   "id": "be0a04f7",
   "metadata": {},
   "outputs": [
    {
     "name": "stdout",
     "output_type": "stream",
     "text": [
      "['Keep', 'your', 'friends', 'close', ',', 'but', 'your', 'enemies', 'closer', '.']\n"
     ]
    }
   ],
   "source": [
    "raw = \"Keep your friends close, but your enemies closer.\"\n",
    "tokens = re.findall(r'\\w+|\\S\\w*',raw)\n",
    "print(tokens)"
   ]
  },
  {
   "cell_type": "code",
   "execution_count": 6,
   "id": "c42ba883",
   "metadata": {},
   "outputs": [
    {
     "name": "stdout",
     "output_type": "stream",
     "text": [
      "'Keep'\n",
      "'your'\n",
      "'friend'\n",
      "'close'\n",
      "','\n",
      "'but'\n",
      "'your'\n",
      "'enemi'\n",
      "'closer'\n",
      "'.'\n"
     ]
    }
   ],
   "source": [
    "for t in tokens:\n",
    "    print(\"'\"+stem(t)+\"'\")"
   ]
  }
 ],
 "metadata": {
  "kernelspec": {
   "display_name": "Python 3",
   "language": "python",
   "name": "python3"
  },
  "language_info": {
   "codemirror_mode": {
    "name": "ipython",
    "version": 3
   },
   "file_extension": ".py",
   "mimetype": "text/x-python",
   "name": "python",
   "nbconvert_exporter": "python",
   "pygments_lexer": "ipython3",
   "version": "3.8.8"
  }
 },
 "nbformat": 4,
 "nbformat_minor": 5
}
