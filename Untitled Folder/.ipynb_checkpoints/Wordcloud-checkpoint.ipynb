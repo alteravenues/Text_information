{
 "cells": [
  {
   "cell_type": "code",
   "execution_count": 2,
   "id": "56e8bea3",
   "metadata": {},
   "outputs": [],
   "source": [
    "import nltk, matplotlib"
   ]
  },
  {
   "cell_type": "code",
   "execution_count": 10,
   "id": "5607e094",
   "metadata": {},
   "outputs": [],
   "source": [
    "from nltk.corpus import webtext"
   ]
  },
  {
   "cell_type": "code",
   "execution_count": 18,
   "id": "6044b16b",
   "metadata": {},
   "outputs": [],
   "source": [
    "from nltk.tokenize import LineTokenizer, SpaceTokenizer, TweetTokenizer"
   ]
  },
  {
   "cell_type": "code",
   "execution_count": 19,
   "id": "b50f42f3",
   "metadata": {},
   "outputs": [],
   "source": [
    "from nltk import word_tokenize"
   ]
  },
  {
   "cell_type": "code",
   "execution_count": 24,
   "id": "f453dd6e",
   "metadata": {},
   "outputs": [
    {
     "name": "stderr",
     "output_type": "stream",
     "text": [
      "[nltk_data] Downloading package punkt to\n",
      "[nltk_data]     C:\\Users\\alter\\AppData\\Roaming\\nltk_data...\n",
      "[nltk_data]   Unzipping tokenizers\\punkt.zip.\n"
     ]
    },
    {
     "data": {
      "text/plain": [
       "True"
      ]
     },
     "execution_count": 24,
     "metadata": {},
     "output_type": "execute_result"
    }
   ],
   "source": [
    "nltk.download('punkt')"
   ]
  },
  {
   "cell_type": "code",
   "execution_count": 29,
   "id": "058b9ae9",
   "metadata": {},
   "outputs": [
    {
     "name": "stdout",
     "output_type": "stream",
     "text": [
      "Requirement already satisfied: wordcloud in c:\\users\\alter\\anaconda3\\lib\\site-packages (1.8.1)\n",
      "Requirement already satisfied: matplotlib in c:\\users\\alter\\anaconda3\\lib\\site-packages (from wordcloud) (3.3.4)\n",
      "Requirement already satisfied: numpy>=1.6.1 in c:\\users\\alter\\anaconda3\\lib\\site-packages (from wordcloud) (1.20.1)\n",
      "Requirement already satisfied: pillow in c:\\users\\alter\\anaconda3\\lib\\site-packages (from wordcloud) (8.2.0)\n",
      "Requirement already satisfied: cycler>=0.10 in c:\\users\\alter\\anaconda3\\lib\\site-packages (from matplotlib->wordcloud) (0.10.0)\n",
      "Requirement already satisfied: kiwisolver>=1.0.1 in c:\\users\\alter\\anaconda3\\lib\\site-packages (from matplotlib->wordcloud) (1.3.1)\n",
      "Requirement already satisfied: pyparsing!=2.0.4,!=2.1.2,!=2.1.6,>=2.0.3 in c:\\users\\alter\\anaconda3\\lib\\site-packages (from matplotlib->wordcloud) (2.4.7)\n",
      "Requirement already satisfied: python-dateutil>=2.1 in c:\\users\\alter\\anaconda3\\lib\\site-packages (from matplotlib->wordcloud) (2.8.1)\n",
      "Requirement already satisfied: six in c:\\users\\alter\\anaconda3\\lib\\site-packages (from cycler>=0.10->matplotlib->wordcloud) (1.15.0)\n",
      "Note: you may need to restart the kernel to use updated packages.\n"
     ]
    }
   ],
   "source": [
    "pip install wordcloud"
   ]
  },
  {
   "cell_type": "code",
   "execution_count": 31,
   "id": "553ca44d",
   "metadata": {},
   "outputs": [],
   "source": [
    "from wordcloud import WordCloud"
   ]
  },
  {
   "cell_type": "code",
   "execution_count": 33,
   "id": "43674913",
   "metadata": {},
   "outputs": [],
   "source": [
    "import matplotlib.pyplot as plt"
   ]
  },
  {
   "cell_type": "code",
   "execution_count": 4,
   "id": "9594cbd6",
   "metadata": {},
   "outputs": [],
   "source": [
    "def getText(txtFileName):\n",
    "  file = open(txtFileName, 'r')\n",
    "  return file.read()"
   ]
  },
  {
   "cell_type": "code",
   "execution_count": 5,
   "id": "b04d6669",
   "metadata": {},
   "outputs": [],
   "source": [
    "txt = getText('simple_corpus.txt')"
   ]
  },
  {
   "cell_type": "code",
   "execution_count": 14,
   "id": "e5b1358b",
   "metadata": {},
   "outputs": [],
   "source": [
    "fileid = 'simple_corpus.txt'\n",
    "fdist = nltk.FreqDist(fileid)"
   ]
  },
  {
   "cell_type": "code",
   "execution_count": 15,
   "id": "87f7b72d",
   "metadata": {},
   "outputs": [
    {
     "name": "stdout",
     "output_type": "stream",
     "text": [
      "최대 발생 토큰\" s \"수 :  2\n"
     ]
    }
   ],
   "source": [
    "print('최대 발생 토큰\"',fdist.max(),'\"수 : ',fdist[fdist.max()])"
   ]
  },
  {
   "cell_type": "code",
   "execution_count": 16,
   "id": "1f2acf07",
   "metadata": {},
   "outputs": [
    {
     "name": "stdout",
     "output_type": "stream",
     "text": [
      "말뭉치 내 총 고유 토큰 수 :  17\n"
     ]
    }
   ],
   "source": [
    "print('말뭉치 내 총 고유 토큰 수 : ',fdist.N())"
   ]
  },
  {
   "cell_type": "code",
   "execution_count": 17,
   "id": "7164ab65",
   "metadata": {},
   "outputs": [
    {
     "name": "stdout",
     "output_type": "stream",
     "text": [
      "말뭉치에서 가장 흔한 10개 단어는 다음과 같습니다\n",
      "[('s', 2), ('p', 2), ('t', 2), ('i', 1), ('m', 1), ('l', 1), ('e', 1), ('_', 1), ('c', 1), ('o', 1)]\n"
     ]
    }
   ],
   "source": [
    "print('말뭉치에서 가장 흔한 10개 단어는 다음과 같습니다')\n",
    "print(fdist.most_common(10))"
   ]
  },
  {
   "cell_type": "code",
   "execution_count": 21,
   "id": "1b869f43",
   "metadata": {},
   "outputs": [
    {
     "name": "stdout",
     "output_type": "stream",
     "text": [
      "LIne tokenizer 출력 :  ['And so even though we face the difficulties of today and tomorrow, I still have a dream. It is a dream deeply rooted in the American dream.', 'I have a dream that one day this nation will rise up and live out the true meaning of its creed:', 'We hold these truths to be self-evident, that all men are created equal.', 'I have a dream that one day on the red hills of Georgia, the sons of former slaves and the sons of former slave owners will be able to sit down together at the table of brotherhood.', 'I have a dream that one day even the state of Mississippi, a state sweltering with the heat of injustice, sweltering with the heat of oppression, will be transformed into an oasis of freedom and justice.', 'I have a dream that my four little children will one day live in a nation where they will not be judged by the color of their skin but by the content of their character.', 'I have a dream today!', 'I have a dream that one day, down in Alabama, with its vicious racists, with its governor having his lips dripping with the words of interposition and nullification, one day right there in Alabama little black boys and black girls will be able to join hands with little white boys and white girls as sisters and brothers.', 'I have a dream today!', 'I have a dream that one day every valley shall be exalted, and every hill and mountain shall be made low, the rough places will be made plain, and the crooked places will be made straight; and the glory of the Lord shall be revealed and all flesh shall see it together.', 'This is our hope, and this is the faith that I go back to the South with.', 'With this faith, we will be able to hew out of the mountain of despair a stone of hope. With this faith, we will be able to transform the jangling discords of our nation into a beautiful symphony of brotherhood. With this faith, we will be able to work together, to pray together, to struggle together, to go to jail together, to stand up for freedom together, knowing that we will be free one day.', 'And this will be the day, this will be the day when all of God s children will be able to sing with new meaning:', 'My country  tis of thee, sweet land of liberty, of thee I sing.', 'Land where my fathers died, land of the Pilgrim s pride,', 'From every mountainside, let freedom ring!', 'And if America is to be a great nation, this must become true.', 'And so let freedom ring from the prodigious hilltops of New Hampshire.', 'Let freedom ring from the mighty mountains of New York.', 'Let freedom ring from the heightening Alleghenies of Pennsylvania.', 'Let freedom ring from the snow-capped Rockies of Colorado.', 'Let freedom ring from the curvaceous slopes of California.', 'But not only that:', 'Let freedom ring from Stone Mountain of Georgia.', 'Let freedom ring from Lookout Mountain of Tennessee.', 'Let freedom ring from every hill and molehill of Mississippi.', 'From every mountainside, let freedom ring.', 'And when this happens, when we allow freedom ring, when we let it ring from every village and every hamlet, from every state and every city, we will be able to speed up that day when all of God s children, black men and white men, Jews and Gentiles, Protestants and Catholics, will be able to join hands and sing in the words of the old Negro spiritual:', 'Free at last! Free at last!', 'Thank God Almighty, we are free at last!']\n"
     ]
    }
   ],
   "source": [
    "ITokenizer = LineTokenizer()\n",
    "print(\"LIne tokenizer 출력 : \", ITokenizer.tokenize(txt))"
   ]
  },
  {
   "cell_type": "code",
   "execution_count": 22,
   "id": "fafdaace",
   "metadata": {},
   "outputs": [
    {
     "name": "stdout",
     "output_type": "stream",
     "text": [
      "Space Tokenizer 출력 :  ['And', 'so', 'even', 'though', 'we', 'face', 'the', 'difficulties', 'of', 'today', 'and', 'tomorrow,', 'I', 'still', 'have', 'a', 'dream.', 'It', 'is', 'a', 'dream', 'deeply', 'rooted', 'in', 'the', 'American', 'dream.\\n', '\\nI', 'have', 'a', 'dream', 'that', 'one', 'day', 'this', 'nation', 'will', 'rise', 'up', 'and', 'live', 'out', 'the', 'true', 'meaning', 'of', 'its', 'creed:\\n', '\\nWe', 'hold', 'these', 'truths', 'to', 'be', 'self-evident,', 'that', 'all', 'men', 'are', 'created', 'equal.\\n', '\\nI', 'have', 'a', 'dream', 'that', 'one', 'day', 'on', 'the', 'red', 'hills', 'of', 'Georgia,', 'the', 'sons', 'of', 'former', 'slaves', 'and', 'the', 'sons', 'of', 'former', 'slave', 'owners', 'will', 'be', 'able', 'to', 'sit', 'down', 'together', 'at', 'the', 'table', 'of', 'brotherhood.\\n', '\\nI', 'have', 'a', 'dream', 'that', 'one', 'day', 'even', 'the', 'state', 'of', 'Mississippi,', 'a', 'state', 'sweltering', 'with', 'the', 'heat', 'of', 'injustice,', 'sweltering', 'with', 'the', 'heat', 'of', 'oppression,', 'will', 'be', 'transformed', 'into', 'an', 'oasis', 'of', 'freedom', 'and', 'justice.\\n', '\\nI', 'have', 'a', 'dream', 'that', 'my', 'four', 'little', 'children', 'will', 'one', 'day', 'live', 'in', 'a', 'nation', 'where', 'they', 'will', 'not', 'be', 'judged', 'by', 'the', 'color', 'of', 'their', 'skin', 'but', 'by', 'the', 'content', 'of', 'their', 'character.\\n', '\\nI', 'have', 'a', 'dream', 'today!\\n', '\\nI', 'have', 'a', 'dream', 'that', 'one', 'day,', 'down', 'in', 'Alabama,', 'with', 'its', 'vicious', 'racists,', 'with', 'its', 'governor', 'having', 'his', 'lips', 'dripping', 'with', 'the', 'words', 'of', 'interposition', 'and', 'nullification,', 'one', 'day', 'right', 'there', 'in', 'Alabama', 'little', 'black', 'boys', 'and', 'black', 'girls', 'will', 'be', 'able', 'to', 'join', 'hands', 'with', 'little', 'white', 'boys', 'and', 'white', 'girls', 'as', 'sisters', 'and', 'brothers.\\n', '\\nI', 'have', 'a', 'dream', 'today!\\n', '\\nI', 'have', 'a', 'dream', 'that', 'one', 'day', 'every', 'valley', 'shall', 'be', 'exalted,', 'and', 'every', 'hill', 'and', 'mountain', 'shall', 'be', 'made', 'low,', 'the', 'rough', 'places', 'will', 'be', 'made', 'plain,', 'and', 'the', 'crooked', 'places', 'will', 'be', 'made', 'straight;', 'and', 'the', 'glory', 'of', 'the', 'Lord', 'shall', 'be', 'revealed', 'and', 'all', 'flesh', 'shall', 'see', 'it', 'together.\\n', '\\nThis', 'is', 'our', 'hope,', 'and', 'this', 'is', 'the', 'faith', 'that', 'I', 'go', 'back', 'to', 'the', 'South', 'with.\\n', '\\nWith', 'this', 'faith,', 'we', 'will', 'be', 'able', 'to', 'hew', 'out', 'of', 'the', 'mountain', 'of', 'despair', 'a', 'stone', 'of', 'hope.', 'With', 'this', 'faith,', 'we', 'will', 'be', 'able', 'to', 'transform', 'the', 'jangling', 'discords', 'of', 'our', 'nation', 'into', 'a', 'beautiful', 'symphony', 'of', 'brotherhood.', 'With', 'this', 'faith,', 'we', 'will', 'be', 'able', 'to', 'work', 'together,', 'to', 'pray', 'together,', 'to', 'struggle', 'together,', 'to', 'go', 'to', 'jail', 'together,', 'to', 'stand', 'up', 'for', 'freedom', 'together,', 'knowing', 'that', 'we', 'will', 'be', 'free', 'one', 'day.\\n', '\\nAnd', 'this', 'will', 'be', 'the', 'day,', 'this', 'will', 'be', 'the', 'day', 'when', 'all', 'of', 'God', 's', 'children', 'will', 'be', 'able', 'to', 'sing', 'with', 'new', 'meaning:\\n', '\\nMy', 'country', '', 'tis', 'of', 'thee,', 'sweet', 'land', 'of', 'liberty,', 'of', 'thee', 'I', 'sing.\\nLand', 'where', 'my', 'fathers', 'died,', 'land', 'of', 'the', 'Pilgrim', 's', 'pride,\\nFrom', 'every', 'mountainside,', 'let', 'freedom', 'ring!\\nAnd', 'if', 'America', 'is', 'to', 'be', 'a', 'great', 'nation,', 'this', 'must', 'become', 'true.\\nAnd', 'so', 'let', 'freedom', 'ring', 'from', 'the', 'prodigious', 'hilltops', 'of', 'New', 'Hampshire.\\nLet', 'freedom', 'ring', 'from', 'the', 'mighty', 'mountains', 'of', 'New', 'York.\\nLet', 'freedom', 'ring', 'from', 'the', 'heightening', 'Alleghenies', 'of', 'Pennsylvania.\\nLet', 'freedom', 'ring', 'from', 'the', 'snow-capped', 'Rockies', 'of', 'Colorado.\\nLet', 'freedom', 'ring', 'from', 'the', 'curvaceous', 'slopes', 'of', 'California.\\n', '\\nBut', 'not', 'only', 'that:\\nLet', 'freedom', 'ring', 'from', 'Stone', 'Mountain', 'of', 'Georgia.\\nLet', 'freedom', 'ring', 'from', 'Lookout', 'Mountain', 'of', 'Tennessee.\\nLet', 'freedom', 'ring', 'from', 'every', 'hill', 'and', 'molehill', 'of', 'Mississippi.\\nFrom', 'every', 'mountainside,', 'let', 'freedom', 'ring.\\nAnd', 'when', 'this', 'happens,', 'when', 'we', 'allow', 'freedom', 'ring,', 'when', 'we', 'let', 'it', 'ring', 'from', 'every', 'village', 'and', 'every', 'hamlet,', 'from', 'every', 'state', 'and', 'every', 'city,', 'we', 'will', 'be', 'able', 'to', 'speed', 'up', 'that', 'day', 'when', 'all', 'of', 'God', 's', 'children,', 'black', 'men', 'and', 'white', 'men,', 'Jews', 'and', 'Gentiles,', 'Protestants', 'and', 'Catholics,', 'will', 'be', 'able', 'to', 'join', 'hands', 'and', 'sing', 'in', 'the', 'words', 'of', 'the', 'old', 'Negro', 'spiritual:\\nFree', 'at', 'last!', 'Free', 'at', 'last!\\n', '\\nThank', 'God', 'Almighty,', 'we', 'are', 'free', 'at', 'last!']\n"
     ]
    }
   ],
   "source": [
    "sTokenizer = SpaceTokenizer()\n",
    "print(\"Space Tokenizer 출력 : \", sTokenizer.tokenize(txt))"
   ]
  },
  {
   "cell_type": "code",
   "execution_count": 25,
   "id": "7a4d3593",
   "metadata": {},
   "outputs": [
    {
     "name": "stdout",
     "output_type": "stream",
     "text": [
      "Word Tokenizer 출력 :  ['And', 'so', 'even', 'though', 'we', 'face', 'the', 'difficulties', 'of', 'today', 'and', 'tomorrow', ',', 'I', 'still', 'have', 'a', 'dream', '.', 'It', 'is', 'a', 'dream', 'deeply', 'rooted', 'in', 'the', 'American', 'dream', '.', 'I', 'have', 'a', 'dream', 'that', 'one', 'day', 'this', 'nation', 'will', 'rise', 'up', 'and', 'live', 'out', 'the', 'true', 'meaning', 'of', 'its', 'creed', ':', 'We', 'hold', 'these', 'truths', 'to', 'be', 'self-evident', ',', 'that', 'all', 'men', 'are', 'created', 'equal', '.', 'I', 'have', 'a', 'dream', 'that', 'one', 'day', 'on', 'the', 'red', 'hills', 'of', 'Georgia', ',', 'the', 'sons', 'of', 'former', 'slaves', 'and', 'the', 'sons', 'of', 'former', 'slave', 'owners', 'will', 'be', 'able', 'to', 'sit', 'down', 'together', 'at', 'the', 'table', 'of', 'brotherhood', '.', 'I', 'have', 'a', 'dream', 'that', 'one', 'day', 'even', 'the', 'state', 'of', 'Mississippi', ',', 'a', 'state', 'sweltering', 'with', 'the', 'heat', 'of', 'injustice', ',', 'sweltering', 'with', 'the', 'heat', 'of', 'oppression', ',', 'will', 'be', 'transformed', 'into', 'an', 'oasis', 'of', 'freedom', 'and', 'justice', '.', 'I', 'have', 'a', 'dream', 'that', 'my', 'four', 'little', 'children', 'will', 'one', 'day', 'live', 'in', 'a', 'nation', 'where', 'they', 'will', 'not', 'be', 'judged', 'by', 'the', 'color', 'of', 'their', 'skin', 'but', 'by', 'the', 'content', 'of', 'their', 'character', '.', 'I', 'have', 'a', 'dream', 'today', '!', 'I', 'have', 'a', 'dream', 'that', 'one', 'day', ',', 'down', 'in', 'Alabama', ',', 'with', 'its', 'vicious', 'racists', ',', 'with', 'its', 'governor', 'having', 'his', 'lips', 'dripping', 'with', 'the', 'words', 'of', 'interposition', 'and', 'nullification', ',', 'one', 'day', 'right', 'there', 'in', 'Alabama', 'little', 'black', 'boys', 'and', 'black', 'girls', 'will', 'be', 'able', 'to', 'join', 'hands', 'with', 'little', 'white', 'boys', 'and', 'white', 'girls', 'as', 'sisters', 'and', 'brothers', '.', 'I', 'have', 'a', 'dream', 'today', '!', 'I', 'have', 'a', 'dream', 'that', 'one', 'day', 'every', 'valley', 'shall', 'be', 'exalted', ',', 'and', 'every', 'hill', 'and', 'mountain', 'shall', 'be', 'made', 'low', ',', 'the', 'rough', 'places', 'will', 'be', 'made', 'plain', ',', 'and', 'the', 'crooked', 'places', 'will', 'be', 'made', 'straight', ';', 'and', 'the', 'glory', 'of', 'the', 'Lord', 'shall', 'be', 'revealed', 'and', 'all', 'flesh', 'shall', 'see', 'it', 'together', '.', 'This', 'is', 'our', 'hope', ',', 'and', 'this', 'is', 'the', 'faith', 'that', 'I', 'go', 'back', 'to', 'the', 'South', 'with', '.', 'With', 'this', 'faith', ',', 'we', 'will', 'be', 'able', 'to', 'hew', 'out', 'of', 'the', 'mountain', 'of', 'despair', 'a', 'stone', 'of', 'hope', '.', 'With', 'this', 'faith', ',', 'we', 'will', 'be', 'able', 'to', 'transform', 'the', 'jangling', 'discords', 'of', 'our', 'nation', 'into', 'a', 'beautiful', 'symphony', 'of', 'brotherhood', '.', 'With', 'this', 'faith', ',', 'we', 'will', 'be', 'able', 'to', 'work', 'together', ',', 'to', 'pray', 'together', ',', 'to', 'struggle', 'together', ',', 'to', 'go', 'to', 'jail', 'together', ',', 'to', 'stand', 'up', 'for', 'freedom', 'together', ',', 'knowing', 'that', 'we', 'will', 'be', 'free', 'one', 'day', '.', 'And', 'this', 'will', 'be', 'the', 'day', ',', 'this', 'will', 'be', 'the', 'day', 'when', 'all', 'of', 'God', 's', 'children', 'will', 'be', 'able', 'to', 'sing', 'with', 'new', 'meaning', ':', 'My', 'country', 'tis', 'of', 'thee', ',', 'sweet', 'land', 'of', 'liberty', ',', 'of', 'thee', 'I', 'sing', '.', 'Land', 'where', 'my', 'fathers', 'died', ',', 'land', 'of', 'the', 'Pilgrim', 's', 'pride', ',', 'From', 'every', 'mountainside', ',', 'let', 'freedom', 'ring', '!', 'And', 'if', 'America', 'is', 'to', 'be', 'a', 'great', 'nation', ',', 'this', 'must', 'become', 'true', '.', 'And', 'so', 'let', 'freedom', 'ring', 'from', 'the', 'prodigious', 'hilltops', 'of', 'New', 'Hampshire', '.', 'Let', 'freedom', 'ring', 'from', 'the', 'mighty', 'mountains', 'of', 'New', 'York', '.', 'Let', 'freedom', 'ring', 'from', 'the', 'heightening', 'Alleghenies', 'of', 'Pennsylvania', '.', 'Let', 'freedom', 'ring', 'from', 'the', 'snow-capped', 'Rockies', 'of', 'Colorado', '.', 'Let', 'freedom', 'ring', 'from', 'the', 'curvaceous', 'slopes', 'of', 'California', '.', 'But', 'not', 'only', 'that', ':', 'Let', 'freedom', 'ring', 'from', 'Stone', 'Mountain', 'of', 'Georgia', '.', 'Let', 'freedom', 'ring', 'from', 'Lookout', 'Mountain', 'of', 'Tennessee', '.', 'Let', 'freedom', 'ring', 'from', 'every', 'hill', 'and', 'molehill', 'of', 'Mississippi', '.', 'From', 'every', 'mountainside', ',', 'let', 'freedom', 'ring', '.', 'And', 'when', 'this', 'happens', ',', 'when', 'we', 'allow', 'freedom', 'ring', ',', 'when', 'we', 'let', 'it', 'ring', 'from', 'every', 'village', 'and', 'every', 'hamlet', ',', 'from', 'every', 'state', 'and', 'every', 'city', ',', 'we', 'will', 'be', 'able', 'to', 'speed', 'up', 'that', 'day', 'when', 'all', 'of', 'God', 's', 'children', ',', 'black', 'men', 'and', 'white', 'men', ',', 'Jews', 'and', 'Gentiles', ',', 'Protestants', 'and', 'Catholics', ',', 'will', 'be', 'able', 'to', 'join', 'hands', 'and', 'sing', 'in', 'the', 'words', 'of', 'the', 'old', 'Negro', 'spiritual', ':', 'Free', 'at', 'last', '!', 'Free', 'at', 'last', '!', 'Thank', 'God', 'Almighty', ',', 'we', 'are', 'free', 'at', 'last', '!']\n"
     ]
    }
   ],
   "source": [
    "print(\"Word Tokenizer 출력 : \", word_tokenize(txt))"
   ]
  },
  {
   "cell_type": "code",
   "execution_count": 26,
   "id": "014d57c9",
   "metadata": {},
   "outputs": [
    {
     "name": "stdout",
     "output_type": "stream",
     "text": [
      "Tweet Tokenizer 출력 :  ['And', 'so', 'even', 'though', 'we', 'face', 'the', 'difficulties', 'of', 'today', 'and', 'tomorrow', ',', 'I', 'still', 'have', 'a', 'dream', '.', 'It', 'is', 'a', 'dream', 'deeply', 'rooted', 'in', 'the', 'American', 'dream', '.', 'I', 'have', 'a', 'dream', 'that', 'one', 'day', 'this', 'nation', 'will', 'rise', 'up', 'and', 'live', 'out', 'the', 'true', 'meaning', 'of', 'its', 'creed', ':', 'We', 'hold', 'these', 'truths', 'to', 'be', 'self-evident', ',', 'that', 'all', 'men', 'are', 'created', 'equal', '.', 'I', 'have', 'a', 'dream', 'that', 'one', 'day', 'on', 'the', 'red', 'hills', 'of', 'Georgia', ',', 'the', 'sons', 'of', 'former', 'slaves', 'and', 'the', 'sons', 'of', 'former', 'slave', 'owners', 'will', 'be', 'able', 'to', 'sit', 'down', 'together', 'at', 'the', 'table', 'of', 'brotherhood', '.', 'I', 'have', 'a', 'dream', 'that', 'one', 'day', 'even', 'the', 'state', 'of', 'Mississippi', ',', 'a', 'state', 'sweltering', 'with', 'the', 'heat', 'of', 'injustice', ',', 'sweltering', 'with', 'the', 'heat', 'of', 'oppression', ',', 'will', 'be', 'transformed', 'into', 'an', 'oasis', 'of', 'freedom', 'and', 'justice', '.', 'I', 'have', 'a', 'dream', 'that', 'my', 'four', 'little', 'children', 'will', 'one', 'day', 'live', 'in', 'a', 'nation', 'where', 'they', 'will', 'not', 'be', 'judged', 'by', 'the', 'color', 'of', 'their', 'skin', 'but', 'by', 'the', 'content', 'of', 'their', 'character', '.', 'I', 'have', 'a', 'dream', 'today', '!', 'I', 'have', 'a', 'dream', 'that', 'one', 'day', ',', 'down', 'in', 'Alabama', ',', 'with', 'its', 'vicious', 'racists', ',', 'with', 'its', 'governor', 'having', 'his', 'lips', 'dripping', 'with', 'the', 'words', 'of', 'interposition', 'and', 'nullification', ',', 'one', 'day', 'right', 'there', 'in', 'Alabama', 'little', 'black', 'boys', 'and', 'black', 'girls', 'will', 'be', 'able', 'to', 'join', 'hands', 'with', 'little', 'white', 'boys', 'and', 'white', 'girls', 'as', 'sisters', 'and', 'brothers', '.', 'I', 'have', 'a', 'dream', 'today', '!', 'I', 'have', 'a', 'dream', 'that', 'one', 'day', 'every', 'valley', 'shall', 'be', 'exalted', ',', 'and', 'every', 'hill', 'and', 'mountain', 'shall', 'be', 'made', 'low', ',', 'the', 'rough', 'places', 'will', 'be', 'made', 'plain', ',', 'and', 'the', 'crooked', 'places', 'will', 'be', 'made', 'straight', ';', 'and', 'the', 'glory', 'of', 'the', 'Lord', 'shall', 'be', 'revealed', 'and', 'all', 'flesh', 'shall', 'see', 'it', 'together', '.', 'This', 'is', 'our', 'hope', ',', 'and', 'this', 'is', 'the', 'faith', 'that', 'I', 'go', 'back', 'to', 'the', 'South', 'with', '.', 'With', 'this', 'faith', ',', 'we', 'will', 'be', 'able', 'to', 'hew', 'out', 'of', 'the', 'mountain', 'of', 'despair', 'a', 'stone', 'of', 'hope', '.', 'With', 'this', 'faith', ',', 'we', 'will', 'be', 'able', 'to', 'transform', 'the', 'jangling', 'discords', 'of', 'our', 'nation', 'into', 'a', 'beautiful', 'symphony', 'of', 'brotherhood', '.', 'With', 'this', 'faith', ',', 'we', 'will', 'be', 'able', 'to', 'work', 'together', ',', 'to', 'pray', 'together', ',', 'to', 'struggle', 'together', ',', 'to', 'go', 'to', 'jail', 'together', ',', 'to', 'stand', 'up', 'for', 'freedom', 'together', ',', 'knowing', 'that', 'we', 'will', 'be', 'free', 'one', 'day', '.', 'And', 'this', 'will', 'be', 'the', 'day', ',', 'this', 'will', 'be', 'the', 'day', 'when', 'all', 'of', 'God', 's', 'children', 'will', 'be', 'able', 'to', 'sing', 'with', 'new', 'meaning', ':', 'My', 'country', 'tis', 'of', 'thee', ',', 'sweet', 'land', 'of', 'liberty', ',', 'of', 'thee', 'I', 'sing', '.', 'Land', 'where', 'my', 'fathers', 'died', ',', 'land', 'of', 'the', 'Pilgrim', 's', 'pride', ',', 'From', 'every', 'mountainside', ',', 'let', 'freedom', 'ring', '!', 'And', 'if', 'America', 'is', 'to', 'be', 'a', 'great', 'nation', ',', 'this', 'must', 'become', 'true', '.', 'And', 'so', 'let', 'freedom', 'ring', 'from', 'the', 'prodigious', 'hilltops', 'of', 'New', 'Hampshire', '.', 'Let', 'freedom', 'ring', 'from', 'the', 'mighty', 'mountains', 'of', 'New', 'York', '.', 'Let', 'freedom', 'ring', 'from', 'the', 'heightening', 'Alleghenies', 'of', 'Pennsylvania', '.', 'Let', 'freedom', 'ring', 'from', 'the', 'snow-capped', 'Rockies', 'of', 'Colorado', '.', 'Let', 'freedom', 'ring', 'from', 'the', 'curvaceous', 'slopes', 'of', 'California', '.', 'But', 'not', 'only', 'that', ':', 'Let', 'freedom', 'ring', 'from', 'Stone', 'Mountain', 'of', 'Georgia', '.', 'Let', 'freedom', 'ring', 'from', 'Lookout', 'Mountain', 'of', 'Tennessee', '.', 'Let', 'freedom', 'ring', 'from', 'every', 'hill', 'and', 'molehill', 'of', 'Mississippi', '.', 'From', 'every', 'mountainside', ',', 'let', 'freedom', 'ring', '.', 'And', 'when', 'this', 'happens', ',', 'when', 'we', 'allow', 'freedom', 'ring', ',', 'when', 'we', 'let', 'it', 'ring', 'from', 'every', 'village', 'and', 'every', 'hamlet', ',', 'from', 'every', 'state', 'and', 'every', 'city', ',', 'we', 'will', 'be', 'able', 'to', 'speed', 'up', 'that', 'day', 'when', 'all', 'of', 'God', 's', 'children', ',', 'black', 'men', 'and', 'white', 'men', ',', 'Jews', 'and', 'Gentiles', ',', 'Protestants', 'and', 'Catholics', ',', 'will', 'be', 'able', 'to', 'join', 'hands', 'and', 'sing', 'in', 'the', 'words', 'of', 'the', 'old', 'Negro', 'spiritual', ':', 'Free', 'at', 'last', '!', 'Free', 'at', 'last', '!', 'Thank', 'God', 'Almighty', ',', 'we', 'are', 'free', 'at', 'last', '!']\n"
     ]
    }
   ],
   "source": [
    "tTokenizer = TweetTokenizer()\n",
    "print(\"Tweet Tokenizer 출력 : \", tTokenizer.tokenize(txt))"
   ]
  },
  {
   "cell_type": "code",
   "execution_count": 37,
   "id": "1a529a30",
   "metadata": {},
   "outputs": [
    {
     "ename": "AttributeError",
     "evalue": "'str' object has no attribute 'items'",
     "output_type": "error",
     "traceback": [
      "\u001b[1;31m---------------------------------------------------------------------------\u001b[0m",
      "\u001b[1;31mAttributeError\u001b[0m                            Traceback (most recent call last)",
      "\u001b[1;32m<ipython-input-37-f8441dbfe0d9>\u001b[0m in \u001b[0;36m<module>\u001b[1;34m\u001b[0m\n\u001b[1;32m----> 1\u001b[1;33m \u001b[0mclean_words\u001b[0m \u001b[1;33m=\u001b[0m \u001b[0mdict\u001b[0m\u001b[1;33m(\u001b[0m\u001b[1;33m[\u001b[0m\u001b[1;33m{\u001b[0m\u001b[0mm\u001b[0m\u001b[1;33m,\u001b[0m\u001b[0mn\u001b[0m\u001b[1;33m}\u001b[0m \u001b[1;32mfor\u001b[0m \u001b[0mm\u001b[0m\u001b[1;33m,\u001b[0m\u001b[0mn\u001b[0m \u001b[1;32min\u001b[0m \u001b[0mtxt\u001b[0m\u001b[1;33m.\u001b[0m\u001b[0mitems\u001b[0m\u001b[1;33m(\u001b[0m\u001b[1;33m)\u001b[0m \u001b[1;32mif\u001b[0m \u001b[0mlen\u001b[0m\u001b[1;33m(\u001b[0m\u001b[0mm\u001b[0m\u001b[1;33m)\u001b[0m \u001b[1;33m>\u001b[0m \u001b[1;36m3\u001b[0m\u001b[1;33m]\u001b[0m\u001b[1;33m)\u001b[0m\u001b[1;33m\u001b[0m\u001b[1;33m\u001b[0m\u001b[0m\n\u001b[0m\u001b[0;32m      2\u001b[0m \u001b[1;33m\u001b[0m\u001b[0m\n\u001b[0;32m      3\u001b[0m \u001b[0mwordcloud\u001b[0m \u001b[1;33m=\u001b[0m \u001b[0mWordCloud\u001b[0m\u001b[1;33m(\u001b[0m\u001b[1;33m)\u001b[0m\u001b[1;33m.\u001b[0m\u001b[0mgenerate_from_frequencies\u001b[0m\u001b[1;33m(\u001b[0m\u001b[0mclean_words\u001b[0m\u001b[1;33m)\u001b[0m\u001b[1;33m\u001b[0m\u001b[1;33m\u001b[0m\u001b[0m\n\u001b[0;32m      4\u001b[0m \u001b[1;33m\u001b[0m\u001b[0m\n\u001b[0;32m      5\u001b[0m \u001b[0mplt\u001b[0m\u001b[1;33m.\u001b[0m\u001b[0mfigure\u001b[0m\u001b[1;33m(\u001b[0m\u001b[0mfigsize\u001b[0m\u001b[1;33m=\u001b[0m\u001b[1;33m(\u001b[0m\u001b[1;36m12\u001b[0m\u001b[1;33m,\u001b[0m\u001b[1;36m9\u001b[0m\u001b[1;33m)\u001b[0m\u001b[1;33m)\u001b[0m\u001b[1;33m\u001b[0m\u001b[1;33m\u001b[0m\u001b[0m\n",
      "\u001b[1;31mAttributeError\u001b[0m: 'str' object has no attribute 'items'"
     ]
    }
   ],
   "source": [
    "clean_words = dict([{m,n} for m,n in fdist.items() if len(m) > 3])\n",
    "\n",
    "wordcloud = WordCloud().generate_from_frequencies(clean_words)\n",
    "\n",
    "plt.figure(figsize=(12,9))\n",
    "plt.imshow(wordclood, interpolation =\"bilinear\")\n",
    "plt.axis(\"off\")\n",
    "plt.show()"
   ]
  },
  {
   "cell_type": "code",
   "execution_count": null,
   "id": "575dfe7b",
   "metadata": {},
   "outputs": [],
   "source": []
  }
 ],
 "metadata": {
  "kernelspec": {
   "display_name": "Python 3",
   "language": "python",
   "name": "python3"
  },
  "language_info": {
   "codemirror_mode": {
    "name": "ipython",
    "version": 3
   },
   "file_extension": ".py",
   "mimetype": "text/x-python",
   "name": "python",
   "nbconvert_exporter": "python",
   "pygments_lexer": "ipython3",
   "version": "3.8.8"
  }
 },
 "nbformat": 4,
 "nbformat_minor": 5
}
