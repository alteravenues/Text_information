{
 "cells": [
  {
   "cell_type": "code",
   "execution_count": 1,
   "id": "27a68208",
   "metadata": {},
   "outputs": [],
   "source": [
    "import re "
   ]
  },
  {
   "cell_type": "code",
   "execution_count": 2,
   "id": "64caf1d6",
   "metadata": {},
   "outputs": [
    {
     "name": "stdout",
     "output_type": "stream",
     "text": [
      "['I', 'am', 'big!', \"It's\", 'the', 'pictyres', 'that', 'got', 'small.']\n"
     ]
    }
   ],
   "source": [
    "raw = \"I am big! It's the pictyres that got small.\"\n",
    "print(re.split(r' +',raw))"
   ]
  },
  {
   "cell_type": "code",
   "execution_count": 3,
   "id": "96fa316c",
   "metadata": {},
   "outputs": [
    {
     "name": "stdout",
     "output_type": "stream",
     "text": [
      "['I', 'am', 'big', 'It', 's', 'the', 'pictyres', 'that', 'got', 'small', '']\n"
     ]
    }
   ],
   "source": [
    "print(re.split(r'\\W+',raw))"
   ]
  },
  {
   "cell_type": "code",
   "execution_count": 6,
   "id": "cc1cae5d",
   "metadata": {},
   "outputs": [
    {
     "name": "stdout",
     "output_type": "stream",
     "text": [
      "['I', 'am', 'big', '!', 'It', \"'s\", 'the', 'pictyres', 'that', 'got', 'small', '.']\n"
     ]
    }
   ],
   "source": [
    "print(re.findall(r'\\w+|\\S\\w*',raw))"
   ]
  }
 ],
 "metadata": {
  "kernelspec": {
   "display_name": "Python 3",
   "language": "python",
   "name": "python3"
  },
  "language_info": {
   "codemirror_mode": {
    "name": "ipython",
    "version": 3
   },
   "file_extension": ".py",
   "mimetype": "text/x-python",
   "name": "python",
   "nbconvert_exporter": "python",
   "pygments_lexer": "ipython3",
   "version": "3.8.8"
  }
 },
 "nbformat": 4,
 "nbformat_minor": 5
}
