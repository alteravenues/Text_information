{
 "cells": [
  {
   "cell_type": "code",
   "execution_count": 1,
   "id": "aff7e7dc",
   "metadata": {},
   "outputs": [],
   "source": [
    "import re"
   ]
  },
  {
   "cell_type": "code",
   "execution_count": 2,
   "id": "38cd2812",
   "metadata": {},
   "outputs": [
    {
     "name": "stdout",
     "output_type": "stream",
     "text": [
      "21 Teheran Rd\n"
     ]
    }
   ],
   "source": [
    "street = '21 Teheran Road'\n",
    "print(re.sub('Road','Rd',street))"
   ]
  },
  {
   "cell_type": "code",
   "execution_count": 5,
   "id": "7bd511fb",
   "metadata": {},
   "outputs": [
    {
     "name": "stdout",
     "output_type": "stream",
     "text": [
      "['light', 'color']\n"
     ]
    }
   ],
   "source": [
    "text = 'Diwali is a festival of light, Holi is a festival of color!'\n",
    "print(re.findall(r\"\\b\\w{5}\\b\",text))"
   ]
  }
 ],
 "metadata": {
  "kernelspec": {
   "display_name": "Python 3",
   "language": "python",
   "name": "python3"
  },
  "language_info": {
   "codemirror_mode": {
    "name": "ipython",
    "version": 3
   },
   "file_extension": ".py",
   "mimetype": "text/x-python",
   "name": "python",
   "nbconvert_exporter": "python",
   "pygments_lexer": "ipython3",
   "version": "3.8.8"
  }
 },
 "nbformat": 4,
 "nbformat_minor": 5
}
