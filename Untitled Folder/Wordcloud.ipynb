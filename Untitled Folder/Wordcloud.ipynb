{
 "cells": [
  {
   "cell_type": "code",
   "execution_count": 1,
   "id": "56e8bea3",
   "metadata": {},
   "outputs": [],
   "source": [
    "import nltk, matplotlib"
   ]
  },
  {
   "cell_type": "code",
   "execution_count": 2,
   "id": "43ec95e9",
   "metadata": {},
   "outputs": [],
   "source": [
    "from nltk.corpus import webtext"
   ]
  },
  {
   "cell_type": "code",
   "execution_count": 3,
   "id": "5c1b5c56",
   "metadata": {},
   "outputs": [],
   "source": [
    "from nltk.tokenize import LineTokenizer, SpaceTokenizer, TweetTokenizer"
   ]
  },
  {
   "cell_type": "code",
   "execution_count": 4,
   "id": "7243bca3",
   "metadata": {},
   "outputs": [],
   "source": [
    "from nltk.corpus.reader.plaintext import PlaintextCorpusReader"
   ]
  },
  {
   "cell_type": "code",
   "execution_count": 5,
   "id": "7383a940",
   "metadata": {},
   "outputs": [],
   "source": [
    "from nltk import word_tokenize"
   ]
  },
  {
   "cell_type": "code",
   "execution_count": 6,
   "id": "cde298f7",
   "metadata": {},
   "outputs": [
    {
     "name": "stderr",
     "output_type": "stream",
     "text": [
      "[nltk_data] Downloading package punkt to\n",
      "[nltk_data]     C:\\Users\\alter\\AppData\\Roaming\\nltk_data...\n",
      "[nltk_data]   Package punkt is already up-to-date!\n"
     ]
    },
    {
     "data": {
      "text/plain": [
       "True"
      ]
     },
     "execution_count": 6,
     "metadata": {},
     "output_type": "execute_result"
    }
   ],
   "source": [
    "nltk.download('punkt')"
   ]
  },
  {
   "cell_type": "code",
   "execution_count": 7,
   "id": "c1ea16f5",
   "metadata": {},
   "outputs": [
    {
     "ename": "TypeError",
     "evalue": "__init__() missing 1 required positional argument: 'fileids'",
     "output_type": "error",
     "traceback": [
      "\u001b[1;31m---------------------------------------------------------------------------\u001b[0m",
      "\u001b[1;31mTypeError\u001b[0m                                 Traceback (most recent call last)",
      "\u001b[1;32m<ipython-input-7-43e58c4dcf4c>\u001b[0m in \u001b[0;36m<module>\u001b[1;34m\u001b[0m\n\u001b[1;32m----> 1\u001b[1;33m \u001b[0mnewCorpus\u001b[0m \u001b[1;33m=\u001b[0m \u001b[0mPlaintextCorpusReader\u001b[0m\u001b[1;33m(\u001b[0m\u001b[1;34m'simple_corpus.txt'\u001b[0m\u001b[1;33m)\u001b[0m\u001b[1;33m\u001b[0m\u001b[1;33m\u001b[0m\u001b[0m\n\u001b[0m",
      "\u001b[1;31mTypeError\u001b[0m: __init__() missing 1 required positional argument: 'fileids'"
     ]
    }
   ],
   "source": [
    "newCorpus = PlaintextCorpusReader('simple_corpus.txt')"
   ]
  },
  {
   "cell_type": "code",
   "execution_count": null,
   "id": "5ae6ef10",
   "metadata": {},
   "outputs": [],
   "source": [
    "pip install wordcloud"
   ]
  },
  {
   "cell_type": "code",
   "execution_count": null,
   "id": "78462b7d",
   "metadata": {},
   "outputs": [],
   "source": [
    "from wordcloud import WordCloud"
   ]
  },
  {
   "cell_type": "code",
   "execution_count": null,
   "id": "a28e79db",
   "metadata": {},
   "outputs": [],
   "source": [
    "import matplotlib.pyplot as plt"
   ]
  },
  {
   "cell_type": "code",
   "execution_count": null,
   "id": "066eeda8",
   "metadata": {},
   "outputs": [],
   "source": [
    "txt = getText('simple_corpus.txt')"
   ]
  },
  {
   "cell_type": "code",
   "execution_count": null,
   "id": "3a9a7ebc",
   "metadata": {},
   "outputs": [],
   "source": [
    "fileid = newCorpus.words()\n",
    "fdist = nltk.FreqDist(fileid)"
   ]
  },
  {
   "cell_type": "code",
   "execution_count": null,
   "id": "340d0af1",
   "metadata": {},
   "outputs": [],
   "source": [
    "print('최대 발생 토큰\"',fdist.max(),'\"수 : ',fdist[fdist.max()])"
   ]
  },
  {
   "cell_type": "code",
   "execution_count": null,
   "id": "17dae38f",
   "metadata": {},
   "outputs": [],
   "source": [
    "print('말뭉치 내 총 고유 토큰 수 : ',fdist.N())"
   ]
  },
  {
   "cell_type": "code",
   "execution_count": null,
   "id": "1672a24c",
   "metadata": {},
   "outputs": [],
   "source": [
    "print('말뭉치에서 가장 흔한 10개 단어는 다음과 같습니다')\n",
    "print(fdist.most_common(10))"
   ]
  },
  {
   "cell_type": "code",
   "execution_count": null,
   "id": "0f42eef6",
   "metadata": {},
   "outputs": [],
   "source": [
    "ITokenizer = LineTokenizer()\n",
    "print(\"LIne tokenizer 출력 : \", ITokenizer.tokenize(txt))"
   ]
  },
  {
   "cell_type": "code",
   "execution_count": null,
   "id": "143f51fe",
   "metadata": {},
   "outputs": [],
   "source": [
    "sTokenizer = SpaceTokenizer()\n",
    "print(\"Space Tokenizer 출력 : \", sTokenizer.tokenize(txt))"
   ]
  },
  {
   "cell_type": "code",
   "execution_count": null,
   "id": "4108b469",
   "metadata": {},
   "outputs": [],
   "source": [
    "print(\"Word Tokenizer 출력 : \", word_tokenize(txt))"
   ]
  },
  {
   "cell_type": "code",
   "execution_count": null,
   "id": "6c22e575",
   "metadata": {},
   "outputs": [],
   "source": [
    "tTokenizer = TweetTokenizer()\n",
    "print(\"Tweet Tokenizer 출력 : \", tTokenizer.tokenize(txt))"
   ]
  },
  {
   "cell_type": "code",
   "execution_count": null,
   "id": "298f72e7",
   "metadata": {},
   "outputs": [],
   "source": [
    "clean_words = dict([{m,n} for m,n in fdist.items() if len(m) > 3])\n",
    "\n",
    "wordcloud = WordCloud().generate_from_frequencies(clean_words)\n",
    "\n",
    "plt.figure(figsize=(12,9))\n",
    "plt.imshow(wordclood, interpolation =\"bilinear\")\n",
    "plt.axis(\"off\")\n",
    "plt.show()"
   ]
  },
  {
   "cell_type": "code",
   "execution_count": null,
   "id": "b2792eb3",
   "metadata": {},
   "outputs": [],
   "source": []
  }
 ],
 "metadata": {
  "kernelspec": {
   "display_name": "Python 3",
   "language": "python",
   "name": "python3"
  },
  "language_info": {
   "codemirror_mode": {
    "name": "ipython",
    "version": 3
   },
   "file_extension": ".py",
   "mimetype": "text/x-python",
   "name": "python",
   "nbconvert_exporter": "python",
   "pygments_lexer": "ipython3",
   "version": "3.8.8"
  }
 },
 "nbformat": 4,
 "nbformat_minor": 5
}
