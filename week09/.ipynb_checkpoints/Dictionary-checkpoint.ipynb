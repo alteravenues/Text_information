{
 "cells": [
  {
   "cell_type": "code",
   "execution_count": 1,
   "id": "a0d17956",
   "metadata": {},
   "outputs": [],
   "source": [
    "import nltk"
   ]
  },
  {
   "cell_type": "code",
   "execution_count": 13,
   "id": "fcb9602e",
   "metadata": {},
   "outputs": [],
   "source": [
    "class LearningDictionary():\n",
    "    def __init__(self, sentence):\n",
    "        self.words = nltk.word_tokenize(sentence)\n",
    "        self.tagged = nltk.pos_tag(self.words)\n",
    "        self.bulidDictionary()\n",
    "        self.bulidReverseDictionary()\n",
    "        \n",
    "    def bulidDictionary(self):\n",
    "        self.dictionary = {}\n",
    "        for(word, pos) in self.tagged:\n",
    "            self.dictionary[word] = pos\n",
    "            \n",
    "    def bulidReverseDictionary(self):\n",
    "        self.dictionary = {}\n",
    "        for key in self.dictionary.keys():\n",
    "            value = self.dictionary[key]\n",
    "            if value not in self.rdictionary:\n",
    "                self.dictionary[value] = [key]\n",
    "            else:\n",
    "                self.dictionary[value].append(key)\n",
    "    \n",
    "    def isWordPresent(self, word):\n",
    "        return 'Yes' if word in self.dictionary else 'No'\n",
    "\n",
    "    def getPOSFarWord(self, word):\n",
    "        return self.dictionary[word] if word in self.dictionary else None\n",
    "    \n",
    "    def getWordsForPOS(self, pos):\n",
    "        return self.dictionary[pos] if pos in self.dictionary else None\n",
    "        "
   ]
  },
  {
   "cell_type": "code",
   "execution_count": 14,
   "id": "2109ccd5",
   "metadata": {},
   "outputs": [
    {
     "name": "stdout",
     "output_type": "stream",
     "text": [
      "Is 'chair' present in dictionary ? : 'No'\n",
      "POS 'NN' has 'None' words\n",
      "POS 'VBS' has 'None' words\n",
      "POS 'NNS' has 'None' words\n",
      "Is 'flights' present in dictionary ? : 'No'\n",
      "POS 'NN' has 'None' words\n",
      "POS 'VBS' has 'None' words\n",
      "POS 'NNS' has 'None' words\n",
      "Is 'delayed' present in dictionary ? : 'No'\n",
      "POS 'NN' has 'None' words\n",
      "POS 'VBS' has 'None' words\n",
      "POS 'NNS' has 'None' words\n",
      "Is 'pencil' present in dictionary ? : 'No'\n",
      "POS 'NN' has 'None' words\n",
      "POS 'VBS' has 'None' words\n",
      "POS 'NNS' has 'None' words\n",
      "Is 'weather' present in dictionary ? : 'No'\n",
      "POS 'NN' has 'None' words\n",
      "POS 'VBS' has 'None' words\n",
      "POS 'NNS' has 'None' words\n"
     ]
    }
   ],
   "source": [
    "sentence = \"All the flights got delayed due to weather\"\n",
    "learning = LearningDictionary(sentence)\n",
    "words = [\"chair\", \"flights\", \"delayed\", \"pencil\", \"weather\"]\n",
    "pos = [\"NN\", \"VBS\", \"NNS\"]\n",
    "\n",
    "for word in words:\n",
    "    status = learning.isWordPresent(word)\n",
    "    print(\"Is '{}' present in dictionary ? : '{}'\".format(word, status))\n",
    "    if status is True:\n",
    "        print(\"\\tPos For '{}'\".format(word, learning.getPOSFarWord(word)))\n",
    "    for pword in pos:\n",
    "        print(\"POS '{}' has '{}' words\".format(pword, learning.getWordsForPOS(pword)))"
   ]
  },
  {
   "cell_type": "code",
   "execution_count": null,
   "id": "ef7b90f0",
   "metadata": {},
   "outputs": [],
   "source": []
  },
  {
   "cell_type": "code",
   "execution_count": null,
   "id": "462258ab",
   "metadata": {},
   "outputs": [],
   "source": []
  },
  {
   "cell_type": "code",
   "execution_count": null,
   "id": "3182af59",
   "metadata": {},
   "outputs": [],
   "source": []
  },
  {
   "cell_type": "code",
   "execution_count": null,
   "id": "ada1f7e0",
   "metadata": {},
   "outputs": [],
   "source": []
  },
  {
   "cell_type": "code",
   "execution_count": null,
   "id": "c340093b",
   "metadata": {},
   "outputs": [],
   "source": []
  }
 ],
 "metadata": {
  "kernelspec": {
   "display_name": "Python 3",
   "language": "python",
   "name": "python3"
  },
  "language_info": {
   "codemirror_mode": {
    "name": "ipython",
    "version": 3
   },
   "file_extension": ".py",
   "mimetype": "text/x-python",
   "name": "python",
   "nbconvert_exporter": "python",
   "pygments_lexer": "ipython3",
   "version": "3.8.8"
  }
 },
 "nbformat": 4,
 "nbformat_minor": 5
}
