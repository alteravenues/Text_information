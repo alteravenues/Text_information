{
 "cells": [
  {
   "cell_type": "code",
   "execution_count": 1,
   "id": "2b3ff2ef",
   "metadata": {},
   "outputs": [],
   "source": [
    "import nltk"
   ]
  },
  {
   "cell_type": "code",
   "execution_count": 8,
   "id": "1c3450eb",
   "metadata": {},
   "outputs": [],
   "source": [
    "sentences = [\n",
    "    \"What is yout address when you're in Seoul?\",\n",
    "    \"the president's address on the state of the economy.\",\n",
    "    \"He addressed his remarks to the lawters in the audience.\",\n",
    "    \"In order to address an assembly, we should be ready\",\n",
    "    \"He laughed inwardly at the scene.\",\n",
    "    \"After all the advance publicity, the prizefight turned out to be a laugh.\",\n",
    "    \"We can learn to laugh a little at even out most serious foinles.\"\n",
    "]"
   ]
  },
  {
   "cell_type": "code",
   "execution_count": 10,
   "id": "8b732879",
   "metadata": {},
   "outputs": [],
   "source": [
    "def getSentenceWords():\n",
    "    sentwords = []\n",
    "    for sentence in sentences:\n",
    "        words = nltk.pos_tag(nltk.word_tokenize(sentence))\n",
    "        sentwords.append(words)\n",
    "    return sentwords"
   ]
  },
  {
   "cell_type": "code",
   "execution_count": 11,
   "id": "b8c1aa2e",
   "metadata": {},
   "outputs": [],
   "source": [
    "def noContextTagger():\n",
    "    tagger = nltk.UnigramTagger(getSentenceWords())\n",
    "    print(tagger.tag('the little remarks towards assembly are laughable'.split()))"
   ]
  },
  {
   "cell_type": "code",
   "execution_count": 21,
   "id": "75534966",
   "metadata": {},
   "outputs": [],
   "source": [
    "def withContextTagger():\n",
    "    def wordFeatures(words, wordPoslnSentence):\n",
    "        endFeatures = {\n",
    "            'last(1)': words[wordPoslnSentence][-1],\n",
    "            'last(2)': words[wordPoslnSentence][-2:],\n",
    "            'last(3)': words[wordPoslnSentence][-3:],\n",
    "        }\n",
    "        if wordPoslnSentence > 1:\n",
    "            endFeatures['prev'] = words[wordPoslnSentence - 1]\n",
    "        else:\n",
    "            endFeatures['prev'] = '|None|'\n",
    "        return endFeatures\n",
    "    allsentences = getSentenceWords()\n",
    "    featureddata = []\n",
    "    for sentence in allsentences:\n",
    "        untaggedSentence = nltk.tag.untag(sentence)\n",
    "        featuredsentence = [(wordFeatures(untaggedSentence, index), tag) for index, (word, tag) in enumerate(sentence)]\n",
    "        featureddata.extend(featuredsentence)\n",
    "    backup = int(len(featureddata) * 0.5)\n",
    "    traindata = featureddata[backup:]\n",
    "    testdata = featureddata[:backup]\n",
    "    classifier = nltk.NaiveBayesClassifier.train(traindata)\n",
    "    print(\"분류기 정확도 : {}\".format(nltk.classify.accuracy(classifier, testdata)))"
   ]
  },
  {
   "cell_type": "code",
   "execution_count": 22,
   "id": "95dbbebb",
   "metadata": {},
   "outputs": [
    {
     "name": "stdout",
     "output_type": "stream",
     "text": [
      "[('the', 'DT'), ('little', 'JJ'), ('remarks', 'NNS'), ('towards', None), ('assembly', 'NN'), ('are', None), ('laughable', None)]\n",
      "분류기 정확도 : 0.46153846153846156\n"
     ]
    }
   ],
   "source": [
    "noContextTagger()\n",
    "withContextTagger()"
   ]
  },
  {
   "cell_type": "code",
   "execution_count": null,
   "id": "412837d3",
   "metadata": {},
   "outputs": [],
   "source": []
  },
  {
   "cell_type": "code",
   "execution_count": null,
   "id": "ff3f2b8f",
   "metadata": {},
   "outputs": [],
   "source": []
  },
  {
   "cell_type": "code",
   "execution_count": null,
   "id": "fb0e50ad",
   "metadata": {},
   "outputs": [],
   "source": []
  }
 ],
 "metadata": {
  "kernelspec": {
   "display_name": "Python 3",
   "language": "python",
   "name": "python3"
  },
  "language_info": {
   "codemirror_mode": {
    "name": "ipython",
    "version": 3
   },
   "file_extension": ".py",
   "mimetype": "text/x-python",
   "name": "python",
   "nbconvert_exporter": "python",
   "pygments_lexer": "ipython3",
   "version": "3.8.8"
  }
 },
 "nbformat": 4,
 "nbformat_minor": 5
}
