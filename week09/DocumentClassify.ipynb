{
 "cells": [
  {
   "cell_type": "code",
   "execution_count": 43,
   "id": "235f6ebf",
   "metadata": {},
   "outputs": [
    {
     "name": "stderr",
     "output_type": "stream",
     "text": [
      "[nltk_data] Downloading package stopwords to\n",
      "[nltk_data]     C:\\Users\\alter\\AppData\\Roaming\\nltk_data...\n",
      "[nltk_data]   Unzipping corpora\\stopwords.zip.\n"
     ]
    },
    {
     "data": {
      "text/plain": [
       "True"
      ]
     },
     "execution_count": 43,
     "metadata": {},
     "output_type": "execute_result"
    }
   ],
   "source": [
    "import nltk\n",
    "import random\n",
    "nltk.download('stopwords')"
   ]
  },
  {
   "cell_type": "code",
   "execution_count": 37,
   "id": "a0f9a3ef",
   "metadata": {},
   "outputs": [
    {
     "name": "stdout",
     "output_type": "stream",
     "text": [
      "Collecting feedparser\n",
      "  Downloading feedparser-6.0.8-py3-none-any.whl (81 kB)\n",
      "Collecting sgmllib3k\n",
      "  Downloading sgmllib3k-1.0.0.tar.gz (5.8 kB)\n",
      "Building wheels for collected packages: sgmllib3k\n",
      "  Building wheel for sgmllib3k (setup.py): started\n",
      "  Building wheel for sgmllib3k (setup.py): finished with status 'done'\n",
      "  Created wheel for sgmllib3k: filename=sgmllib3k-1.0.0-py3-none-any.whl size=6065 sha256=1f6fbebf1502b6e125becbaf79c42eeabea1d44934c0822f620c504a4b66174a\n",
      "  Stored in directory: c:\\users\\alter\\appdata\\local\\pip\\cache\\wheels\\83\\63\\2f\\117884c3b19d46b64d3d61690333aa80c88dc14050e269c546\n",
      "Successfully built sgmllib3k\n",
      "Installing collected packages: sgmllib3k, feedparser\n",
      "Successfully installed feedparser-6.0.8 sgmllib3k-1.0.0\n",
      "Note: you may need to restart the kernel to use updated packages.\n"
     ]
    }
   ],
   "source": [
    "pip install feedparser"
   ]
  },
  {
   "cell_type": "code",
   "execution_count": 38,
   "id": "1b1ee0f7",
   "metadata": {},
   "outputs": [],
   "source": [
    "import feedparser"
   ]
  },
  {
   "cell_type": "code",
   "execution_count": 40,
   "id": "bfd2580d",
   "metadata": {},
   "outputs": [],
   "source": [
    "urls = {\n",
    "    'mlb' : 'https://sports.yahoo.com/mlb/rss.xml',\n",
    "    'nkl' : 'https://sports.yahoo.com/nfl/rss.xml',\n",
    "}"
   ]
  },
  {
   "cell_type": "code",
   "execution_count": 44,
   "id": "1c5ae148",
   "metadata": {},
   "outputs": [],
   "source": [
    "feedmap = {}\n",
    "stopwords = nltk.corpus.stopwords.words('english')"
   ]
  },
  {
   "cell_type": "code",
   "execution_count": 45,
   "id": "31af3821",
   "metadata": {},
   "outputs": [],
   "source": [
    "def featureExtractor(words):\n",
    "    features = {}\n",
    "    for word in words:\n",
    "        if word not in stopwords:\n",
    "            features[\"word({})\".format(word)] = True\n",
    "    return features"
   ]
  },
  {
   "cell_type": "code",
   "execution_count": 46,
   "id": "d92bc7a3",
   "metadata": {},
   "outputs": [],
   "source": [
    "sentences = []"
   ]
  },
  {
   "cell_type": "code",
   "execution_count": 47,
   "id": "08d7b551",
   "metadata": {},
   "outputs": [
    {
     "name": "stdout",
     "output_type": "stream",
     "text": [
      "downloading https://sports.yahoo.com/mlb/rss.xml\n",
      "downloading https://sports.yahoo.com/nfl/rss.xml\n"
     ]
    }
   ],
   "source": [
    "for category in urls.keys():\n",
    "    feedmap[category] = feedparser.parse(urls[category])\n",
    "    print(\"downloading {}\".format(urls[category]))\n",
    "    for entry in feedmap[category]['entries']:\n",
    "        data = entry['summary']\n",
    "        words = data.split()\n",
    "        sentences.append((category, words))"
   ]
  },
  {
   "cell_type": "code",
   "execution_count": 54,
   "id": "34380996",
   "metadata": {},
   "outputs": [],
   "source": [
    "featuresets = [(featureExtractor(words), category) for category, words in sentences]\n",
    "random.shuffle(featuresets)"
   ]
  },
  {
   "cell_type": "code",
   "execution_count": 57,
   "id": "f7e52873",
   "metadata": {},
   "outputs": [
    {
     "name": "stdout",
     "output_type": "stream",
     "text": [
      "0.8627450980392157\n"
     ]
    }
   ],
   "source": [
    "total = len(featuresets)\n",
    "off = int(total/2)\n",
    "trainset = featuresets[off:]\n",
    "testset = featuresets[:off]\n",
    "classifier = nltk.NaiveBayesClassifier.train(trainset)\n",
    "print(nltk.classify.accuracy(classifier, testset))"
   ]
  },
  {
   "cell_type": "code",
   "execution_count": 59,
   "id": "bbf23b3b",
   "metadata": {},
   "outputs": [
    {
     "name": "stdout",
     "output_type": "stream",
     "text": [
      "Most Informative Features\n",
      "              word(game) = True              nkl : mlb    =      3.5 : 1.0\n",
      "            word(season) = True              mlb : nkl    =      3.1 : 1.0\n",
      "             word(coach) = True              nkl : mlb    =      2.9 : 1.0\n",
      "              word(time) = True              mlb : nkl    =      2.4 : 1.0\n",
      "             word(first) = True              mlb : nkl    =      2.3 : 1.0\n",
      "nkl -> Tony Romo, CBS's top NFL commentator, suggested that the fan who got Tom Brady's 600th TD ball ask for \"a date with Gisele.\" It was crude and unacceptable.\n",
      "nkl -> The Houston Texans didn't go anywhere in the Touchdown Wire NFL power rankings for Week 8.\n",
      "nkl -> 1. Cardinals (7-0, last week No. 1): Green Bay’s sudden COVID issues make 8-0 a very real possibility. 2. Buccaneers (6-1, No. 2): Beat the Saints, and the Bucs may enter the Bills game at 12-1. 3. Rams (6-1, No. 4): The Lions threw the kitchen sink at the Rams, and the Rams somehow held [more]\n",
      "nkl -> Miles Sanders' injury vs. the Raiders seemed bad, but Nick Sirianni's update on the Eagles' running back wasn't as dire as expected. By Reuben Frank\n"
     ]
    }
   ],
   "source": [
    "classifier.show_most_informative_features(5)\n",
    "for (i, entry) in enumerate(feedmap['nkl']['entries']):\n",
    "    if i<4:\n",
    "        features = featureExtractor(entry['title'].split())\n",
    "        category = classifier.classify(features)\n",
    "        print('{} -> {}'.format(category,entry['summary']))"
   ]
  }
 ],
 "metadata": {
  "kernelspec": {
   "display_name": "Python 3",
   "language": "python",
   "name": "python3"
  },
  "language_info": {
   "codemirror_mode": {
    "name": "ipython",
    "version": 3
   },
   "file_extension": ".py",
   "mimetype": "text/x-python",
   "name": "python",
   "nbconvert_exporter": "python",
   "pygments_lexer": "ipython3",
   "version": "3.8.8"
  }
 },
 "nbformat": 4,
 "nbformat_minor": 5
}
