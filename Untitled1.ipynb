{
 "cells": [
  {
   "cell_type": "code",
   "execution_count": 2,
   "id": "fe43c7cc",
   "metadata": {},
   "outputs": [
    {
     "name": "stdout",
     "output_type": "stream",
     "text": [
      "3. 세 자리 수를 곱해 만들 수 있는 가장 큰 대칭수를 구하시오.\n",
      "답 : 994009\n",
      "\n"
     ]
    }
   ],
   "source": [
    "str1=[]\n",
    "for i in range(100,1000):\n",
    "    for j in range(100,1000):\n",
    "        str2 = str(i*j)\n",
    "        for a in range(len(str2)):\n",
    "            if str2[a] != str2[-(a+1)]:\n",
    "                break\n",
    "            else:\n",
    "                str1.append(int(str2))\n",
    "print('3. 세 자리 수를 곱해 만들 수 있는 가장 큰 대칭수를 구하시오.')\n",
    "print('답 : %d\\n' %max(str1))"
   ]
  },
  {
   "cell_type": "code",
   "execution_count": 4,
   "id": "aaff2f48",
   "metadata": {},
   "outputs": [
    {
     "name": "stdout",
     "output_type": "stream",
     "text": [
      "3. 세 자리 수를 곱해 만들 수 있는 가장 큰 대칭수를 구하시오.\n",
      "답 : 906609\n",
      "\n"
     ]
    }
   ],
   "source": [
    "str1=[]\n",
    "for i in range(100,1000):\n",
    "    for j in range(100,1000):\n",
    "        str2 = str(i*j)\n",
    "        for a in range(len(str2)):    \n",
    "            if str2[a] != str2[-(a+1)]:\n",
    "                break\n",
    "        else:\n",
    "            str1.append(int(str2))\n",
    "print('3. 세 자리 수를 곱해 만들 수 있는 가장 큰 대칭수를 구하시오.')\n",
    "print('답 : %d\\n' %max(str1))"
   ]
  },
  {
   "cell_type": "code",
   "execution_count": null,
   "id": "d4f7dcb7",
   "metadata": {},
   "outputs": [],
   "source": [
    "a=[]\n",
    "for i in range(100,1000):\n",
    "    for j in range(100,1000):\n",
    "            list = str(i*j)\n",
    "            for k in range(len(list)):\n",
    "                if list[k] != list[-(k+1)]:\n",
    "                    break\n",
    "            else:\n",
    "                \n",
    "                    "
   ]
  }
 ],
 "metadata": {
  "kernelspec": {
   "display_name": "Python 3",
   "language": "python",
   "name": "python3"
  },
  "language_info": {
   "codemirror_mode": {
    "name": "ipython",
    "version": 3
   },
   "file_extension": ".py",
   "mimetype": "text/x-python",
   "name": "python",
   "nbconvert_exporter": "python",
   "pygments_lexer": "ipython3",
   "version": "3.8.8"
  }
 },
 "nbformat": 4,
 "nbformat_minor": 5
}
